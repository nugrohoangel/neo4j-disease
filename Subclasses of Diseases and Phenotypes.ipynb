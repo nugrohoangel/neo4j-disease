{
 "cells": [
  {
   "cell_type": "code",
   "execution_count": 1,
   "metadata": {},
   "outputs": [],
   "source": [
    "from py2neo import Graph\n",
    "from py2neo import Node\n",
    "\n",
    "import pandas as pd\n",
    "from matplotlib import pyplot as plt"
   ]
  },
  {
   "cell_type": "code",
   "execution_count": 2,
   "metadata": {},
   "outputs": [],
   "source": [
    "from py2neo import Database\n",
    "db = Database(\"bolt://disease.ncats.io:80\")"
   ]
  },
  {
   "cell_type": "code",
   "execution_count": 3,
   "metadata": {},
   "outputs": [],
   "source": [
    "graph = db.default_graph"
   ]
  },
  {
   "cell_type": "code",
   "execution_count": 4,
   "metadata": {},
   "outputs": [],
   "source": [
    "disease_q = \"\"\"MATCH p=(d:DATA)--(n:S_GARD)<-[r:R_subClassOf]-(s:S_GARD)\n",
    "            RETURN d.id, n.N_Name, count(s)\"\"\"\n",
    "disease_dict = graph.run(disease_q).data()"
   ]
  },
  {
   "cell_type": "code",
   "execution_count": 6,
   "metadata": {},
   "outputs": [
    {
     "data": {
      "text/html": [
       "<div>\n",
       "<style scoped>\n",
       "    .dataframe tbody tr th:only-of-type {\n",
       "        vertical-align: middle;\n",
       "    }\n",
       "\n",
       "    .dataframe tbody tr th {\n",
       "        vertical-align: top;\n",
       "    }\n",
       "\n",
       "    .dataframe thead th {\n",
       "        text-align: right;\n",
       "    }\n",
       "</style>\n",
       "<table border=\"1\" class=\"dataframe\">\n",
       "  <thead>\n",
       "    <tr style=\"text-align: right;\">\n",
       "      <th></th>\n",
       "      <th>d.id</th>\n",
       "      <th>n.N_Name</th>\n",
       "      <th>count(s)</th>\n",
       "    </tr>\n",
       "  </thead>\n",
       "  <tbody>\n",
       "    <tr>\n",
       "      <th>0</th>\n",
       "      <td>6</td>\n",
       "      <td>[ACROMESOMELIC DYSPLASIA, ACROMESOMELIC DWARFISM]</td>\n",
       "      <td>5</td>\n",
       "    </tr>\n",
       "    <tr>\n",
       "      <th>1</th>\n",
       "      <td>37</td>\n",
       "      <td>[PARTIAL DELETION OF THE SHORT ARM OF CHROMOSO...</td>\n",
       "      <td>1</td>\n",
       "    </tr>\n",
       "    <tr>\n",
       "      <th>2</th>\n",
       "      <td>76</td>\n",
       "      <td>[HYPOHIDROTIC ECTODERMAL DYSPLASIA, HED, ECTOD...</td>\n",
       "      <td>4</td>\n",
       "    </tr>\n",
       "    <tr>\n",
       "      <th>3</th>\n",
       "      <td>85</td>\n",
       "      <td>[THANATOPHORIC DYSPLASIA, DWARFISM THANATOPHOR...</td>\n",
       "      <td>2</td>\n",
       "    </tr>\n",
       "    <tr>\n",
       "      <th>4</th>\n",
       "      <td>101</td>\n",
       "      <td>CENTRONUCLEAR MYOPATHY</td>\n",
       "      <td>4</td>\n",
       "    </tr>\n",
       "  </tbody>\n",
       "</table>\n",
       "</div>"
      ],
      "text/plain": [
       "   d.id                                           n.N_Name  count(s)\n",
       "0     6  [ACROMESOMELIC DYSPLASIA, ACROMESOMELIC DWARFISM]         5\n",
       "1    37  [PARTIAL DELETION OF THE SHORT ARM OF CHROMOSO...         1\n",
       "2    76  [HYPOHIDROTIC ECTODERMAL DYSPLASIA, HED, ECTOD...         4\n",
       "3    85  [THANATOPHORIC DYSPLASIA, DWARFISM THANATOPHOR...         2\n",
       "4   101                             CENTRONUCLEAR MYOPATHY         4"
      ]
     },
     "execution_count": 6,
     "metadata": {},
     "output_type": "execute_result"
    }
   ],
   "source": [
    "dis_df = pd.DataFrame.from_dict(disease_dict)\n",
    "dis_df.head()"
   ]
  },
  {
   "cell_type": "code",
   "execution_count": 7,
   "metadata": {},
   "outputs": [
    {
     "name": "stdout",
     "output_type": "stream",
     "text": [
      "(420, 3)\n"
     ]
    }
   ],
   "source": [
    "print(dis_df.shape)"
   ]
  },
  {
   "cell_type": "code",
   "execution_count": 11,
   "metadata": {},
   "outputs": [
    {
     "data": {
      "image/png": "[encoded data removed]",
      "text/plain": [
       "<Figure size 432x288 with 1 Axes>"
      ]
     },
     "metadata": {
      "needs_background": "light"
     },
     "output_type": "display_data"
    }
   ],
   "source": [
    "plt.hist(dis_df[\"count(s)\"], bins=60, ec = \"black\")\n",
    "plt.xlabel(\"Number of Subclasses\")\n",
    "plt.ylabel(\"Number of GARD Diseases\")\n",
    "plt.title(\"Distribution of subclass diseases to GARD diseases\")\n",
    "plt.show()"
   ]
  },
  {
   "cell_type": "code",
   "execution_count": 12,
   "metadata": {},
   "outputs": [
    {
     "data": {
      "text/html": [
       "<div>\n",
       "<style scoped>\n",
       "    .dataframe tbody tr th:only-of-type {\n",
       "        vertical-align: middle;\n",
       "    }\n",
       "\n",
       "    .dataframe tbody tr th {\n",
       "        vertical-align: top;\n",
       "    }\n",
       "\n",
       "    .dataframe thead th {\n",
       "        text-align: right;\n",
       "    }\n",
       "</style>\n",
       "<table border=\"1\" class=\"dataframe\">\n",
       "  <thead>\n",
       "    <tr style=\"text-align: right;\">\n",
       "      <th></th>\n",
       "      <th>d.id</th>\n",
       "      <th>n.N_Name</th>\n",
       "      <th>count(s)</th>\n",
       "    </tr>\n",
       "  </thead>\n",
       "  <tbody>\n",
       "    <tr>\n",
       "      <th>94</th>\n",
       "      <td>6034</td>\n",
       "      <td>[CHARCOT-MARIE-TOOTH DISEASE, CMT, HEREDITARY ...</td>\n",
       "      <td>55</td>\n",
       "    </tr>\n",
       "    <tr>\n",
       "      <th>121</th>\n",
       "      <td>6614</td>\n",
       "      <td>HEREDITARY ATAXIA</td>\n",
       "      <td>53</td>\n",
       "    </tr>\n",
       "    <tr>\n",
       "      <th>109</th>\n",
       "      <td>6317</td>\n",
       "      <td>ECTODERMAL DYSPLASIA</td>\n",
       "      <td>50</td>\n",
       "    </tr>\n",
       "    <tr>\n",
       "      <th>221</th>\n",
       "      <td>10307</td>\n",
       "      <td>[CONGENITAL DISORDERS OF GLYCOSYLATION, CDG, C...</td>\n",
       "      <td>42</td>\n",
       "    </tr>\n",
       "    <tr>\n",
       "      <th>233</th>\n",
       "      <td>10748</td>\n",
       "      <td>[SPINOCEREBELLAR ATAXIA, SCA]</td>\n",
       "      <td>37</td>\n",
       "    </tr>\n",
       "    <tr>\n",
       "      <th>...</th>\n",
       "      <td>...</td>\n",
       "      <td>...</td>\n",
       "      <td>...</td>\n",
       "    </tr>\n",
       "    <tr>\n",
       "      <th>129</th>\n",
       "      <td>6768</td>\n",
       "      <td>IMMUNE THROMBOCYTOPENIA</td>\n",
       "      <td>1</td>\n",
       "    </tr>\n",
       "    <tr>\n",
       "      <th>305</th>\n",
       "      <td>12162</td>\n",
       "      <td>REDUCING BODY MYOPATHY</td>\n",
       "      <td>1</td>\n",
       "    </tr>\n",
       "    <tr>\n",
       "      <th>128</th>\n",
       "      <td>6735</td>\n",
       "      <td>HYPOPHOSPHATEMIC RICKETS</td>\n",
       "      <td>1</td>\n",
       "    </tr>\n",
       "    <tr>\n",
       "      <th>309</th>\n",
       "      <td>12210</td>\n",
       "      <td>BLADDER CANCER</td>\n",
       "      <td>1</td>\n",
       "    </tr>\n",
       "    <tr>\n",
       "      <th>210</th>\n",
       "      <td>9851</td>\n",
       "      <td>[EPISODIC ATAXIA, EA SYNDROME, EPISODIC ATAXIA...</td>\n",
       "      <td>1</td>\n",
       "    </tr>\n",
       "  </tbody>\n",
       "</table>\n",
       "<p>420 rows × 3 columns</p>\n",
       "</div>"
      ],
      "text/plain": [
       "      d.id                                           n.N_Name  count(s)\n",
       "94    6034  [CHARCOT-MARIE-TOOTH DISEASE, CMT, HEREDITARY ...        55\n",
       "121   6614                                  HEREDITARY ATAXIA        53\n",
       "109   6317                               ECTODERMAL DYSPLASIA        50\n",
       "221  10307  [CONGENITAL DISORDERS OF GLYCOSYLATION, CDG, C...        42\n",
       "233  10748                      [SPINOCEREBELLAR ATAXIA, SCA]        37\n",
       "..     ...                                                ...       ...\n",
       "129   6768                            IMMUNE THROMBOCYTOPENIA         1\n",
       "305  12162                             REDUCING BODY MYOPATHY         1\n",
       "128   6735                           HYPOPHOSPHATEMIC RICKETS         1\n",
       "309  12210                                     BLADDER CANCER         1\n",
       "210   9851  [EPISODIC ATAXIA, EA SYNDROME, EPISODIC ATAXIA...         1\n",
       "\n",
       "[420 rows x 3 columns]"
      ]
     },
     "execution_count": 12,
     "metadata": {},
     "output_type": "execute_result"
    }
   ],
   "source": [
    "dis_df.sort_values(by=\"count(s)\", ascending=False)"
   ]
  },
  {
   "cell_type": "code",
   "execution_count": 13,
   "metadata": {},
   "outputs": [],
   "source": [
    "phenotype_q = \"\"\"MATCH p=(d:DATA)--(n:S_HP)<-[r:R_subClassOf]-(s:S_HP)\n",
    "            RETURN d.id, n.N_Name, count(s)\"\"\"\n",
    "phenotype_dict = graph.run(phenotype_q).data()"
   ]
  },
  {
   "cell_type": "code",
   "execution_count": 14,
   "metadata": {},
   "outputs": [
    {
     "data": {
      "text/html": [
       "<div>\n",
       "<style scoped>\n",
       "    .dataframe tbody tr th:only-of-type {\n",
       "        vertical-align: middle;\n",
       "    }\n",
       "\n",
       "    .dataframe tbody tr th {\n",
       "        vertical-align: top;\n",
       "    }\n",
       "\n",
       "    .dataframe thead th {\n",
       "        text-align: right;\n",
       "    }\n",
       "</style>\n",
       "<table border=\"1\" class=\"dataframe\">\n",
       "  <thead>\n",
       "    <tr style=\"text-align: right;\">\n",
       "      <th></th>\n",
       "      <th>d.id</th>\n",
       "      <th>n.N_Name</th>\n",
       "      <th>count(s)</th>\n",
       "    </tr>\n",
       "  </thead>\n",
       "  <tbody>\n",
       "    <tr>\n",
       "      <th>0</th>\n",
       "      <td>HP:0001019</td>\n",
       "      <td>[EXFOLIATIVE DERMITITIS, GENERALIZED ERYTHRODE...</td>\n",
       "      <td>2</td>\n",
       "    </tr>\n",
       "    <tr>\n",
       "      <th>1</th>\n",
       "      <td>HP:0100731</td>\n",
       "      <td>[TESSIER FACIAL CLEFT NUMBER 6, TESSIER FACIAL...</td>\n",
       "      <td>3</td>\n",
       "    </tr>\n",
       "    <tr>\n",
       "      <th>2</th>\n",
       "      <td>UBERON:0001970</td>\n",
       "      <td>[GALL, FEL, BILE]</td>\n",
       "      <td>6</td>\n",
       "    </tr>\n",
       "    <tr>\n",
       "      <th>3</th>\n",
       "      <td>HP:0011547</td>\n",
       "      <td>ABSENT LEFT SIDED ATRIOVENTRICULAR CONNECTION</td>\n",
       "      <td>6</td>\n",
       "    </tr>\n",
       "    <tr>\n",
       "      <th>4</th>\n",
       "      <td>HP:0010112</td>\n",
       "      <td>[CENTRAL POLYDACTYLY OF FEET, MESOAXIAL FOOT P...</td>\n",
       "      <td>6</td>\n",
       "    </tr>\n",
       "  </tbody>\n",
       "</table>\n",
       "</div>"
      ],
      "text/plain": [
       "             d.id                                           n.N_Name  count(s)\n",
       "0      HP:0001019  [EXFOLIATIVE DERMITITIS, GENERALIZED ERYTHRODE...         2\n",
       "1      HP:0100731  [TESSIER FACIAL CLEFT NUMBER 6, TESSIER FACIAL...         3\n",
       "2  UBERON:0001970                                  [GALL, FEL, BILE]         6\n",
       "3      HP:0011547      ABSENT LEFT SIDED ATRIOVENTRICULAR CONNECTION         6\n",
       "4      HP:0010112  [CENTRAL POLYDACTYLY OF FEET, MESOAXIAL FOOT P...         6"
      ]
     },
     "execution_count": 14,
     "metadata": {},
     "output_type": "execute_result"
    }
   ],
   "source": [
    "phen_df = pd.DataFrame.from_dict(phenotype_dict)\n",
    "phen_df.head()"
   ]
  },
  {
   "cell_type": "code",
   "execution_count": 18,
   "metadata": {},
   "outputs": [
    {
     "data": {
      "image/png": "[encoded data removed]",
      "text/plain": [
       "<Figure size 432x288 with 1 Axes>"
      ]
     },
     "metadata": {
      "needs_background": "light"
     },
     "output_type": "display_data"
    }
   ],
   "source": [
    "plt.hist(phen_df[\"count(s)\"], bins=60, ec = \"black\", facecolor = \"orange\")\n",
    "plt.xlabel(\"Number of Phenotype Subclasses\")\n",
    "plt.ylabel(\"Number of Phenotypes\")\n",
    "plt.title(\"Distribution of subclass phenotypes to HPO Phenotypes\")\n",
    "plt.show()"
   ]
  },
  {
   "cell_type": "code",
   "execution_count": 19,
   "metadata": {},
   "outputs": [
    {
     "data": {
      "text/html": [
       "<div>\n",
       "<style scoped>\n",
       "    .dataframe tbody tr th:only-of-type {\n",
       "        vertical-align: middle;\n",
       "    }\n",
       "\n",
       "    .dataframe tbody tr th {\n",
       "        vertical-align: top;\n",
       "    }\n",
       "\n",
       "    .dataframe thead th {\n",
       "        text-align: right;\n",
       "    }\n",
       "</style>\n",
       "<table border=\"1\" class=\"dataframe\">\n",
       "  <thead>\n",
       "    <tr style=\"text-align: right;\">\n",
       "      <th></th>\n",
       "      <th>d.id</th>\n",
       "      <th>n.N_Name</th>\n",
       "      <th>count(s)</th>\n",
       "    </tr>\n",
       "  </thead>\n",
       "  <tbody>\n",
       "    <tr>\n",
       "      <th>2450</th>\n",
       "      <td>http://purl.obolibrary.org/obo/CARO_0000000</td>\n",
       "      <td>ANATOMICAL ENTITY</td>\n",
       "      <td>405</td>\n",
       "    </tr>\n",
       "    <tr>\n",
       "      <th>11676</th>\n",
       "      <td>UBERON:0004120</td>\n",
       "      <td>[MESODERMAL DERIVATIVE, MESODERM-DERIVED STRUC...</td>\n",
       "      <td>316</td>\n",
       "    </tr>\n",
       "    <tr>\n",
       "      <th>1223</th>\n",
       "      <td>UBERON:0010314</td>\n",
       "      <td>STRUCTURE WITH DEVELOPMENTAL CONTRIBUTION FROM...</td>\n",
       "      <td>260</td>\n",
       "    </tr>\n",
       "    <tr>\n",
       "      <th>11746</th>\n",
       "      <td>NCBITaxon:9606</td>\n",
       "      <td>[HUMAN, MAN, HUMANS, HOMO SAPIENS]</td>\n",
       "      <td>214</td>\n",
       "    </tr>\n",
       "    <tr>\n",
       "      <th>7674</th>\n",
       "      <td>UBERON:0000061</td>\n",
       "      <td>[CONNECTED BIOLOGICAL STRUCTURE, BIOLOGICAL ST...</td>\n",
       "      <td>211</td>\n",
       "    </tr>\n",
       "    <tr>\n",
       "      <th>...</th>\n",
       "      <td>...</td>\n",
       "      <td>...</td>\n",
       "      <td>...</td>\n",
       "    </tr>\n",
       "    <tr>\n",
       "      <th>10111</th>\n",
       "      <td>GO:0006518</td>\n",
       "      <td>[PEPTIDE METABOLISM, PEPTIDE METABOLIC PROCESS]</td>\n",
       "      <td>1</td>\n",
       "    </tr>\n",
       "    <tr>\n",
       "      <th>4994</th>\n",
       "      <td>MGI:97489</td>\n",
       "      <td>PAX5 (MOUSE)</td>\n",
       "      <td>1</td>\n",
       "    </tr>\n",
       "    <tr>\n",
       "      <th>4993</th>\n",
       "      <td>UBERON:0035431</td>\n",
       "      <td>[PARS MEDIASTINALIS (PLEURAE), PARS MEDIASTINA...</td>\n",
       "      <td>1</td>\n",
       "    </tr>\n",
       "    <tr>\n",
       "      <th>4992</th>\n",
       "      <td>CHEBI:33767</td>\n",
       "      <td>[COBALT GROUP MOLECULAR ENTITY, COBALT GROUP M...</td>\n",
       "      <td>1</td>\n",
       "    </tr>\n",
       "    <tr>\n",
       "      <th>6638</th>\n",
       "      <td>PATO:0001875</td>\n",
       "      <td>[DELTOID, TRIANGLE, DELTA SHAPED, TRIANGLE-SHA...</td>\n",
       "      <td>1</td>\n",
       "    </tr>\n",
       "  </tbody>\n",
       "</table>\n",
       "<p>13277 rows × 3 columns</p>\n",
       "</div>"
      ],
      "text/plain": [
       "                                              d.id  \\\n",
       "2450   http://purl.obolibrary.org/obo/CARO_0000000   \n",
       "11676                               UBERON:0004120   \n",
       "1223                                UBERON:0010314   \n",
       "11746                               NCBITaxon:9606   \n",
       "7674                                UBERON:0000061   \n",
       "...                                            ...   \n",
       "10111                                   GO:0006518   \n",
       "4994                                     MGI:97489   \n",
       "4993                                UBERON:0035431   \n",
       "4992                                   CHEBI:33767   \n",
       "6638                                  PATO:0001875   \n",
       "\n",
       "                                                n.N_Name  count(s)  \n",
       "2450                                   ANATOMICAL ENTITY       405  \n",
       "11676  [MESODERMAL DERIVATIVE, MESODERM-DERIVED STRUC...       316  \n",
       "1223   STRUCTURE WITH DEVELOPMENTAL CONTRIBUTION FROM...       260  \n",
       "11746                 [HUMAN, MAN, HUMANS, HOMO SAPIENS]       214  \n",
       "7674   [CONNECTED BIOLOGICAL STRUCTURE, BIOLOGICAL ST...       211  \n",
       "...                                                  ...       ...  \n",
       "10111    [PEPTIDE METABOLISM, PEPTIDE METABOLIC PROCESS]         1  \n",
       "4994                                        PAX5 (MOUSE)         1  \n",
       "4993   [PARS MEDIASTINALIS (PLEURAE), PARS MEDIASTINA...         1  \n",
       "4992   [COBALT GROUP MOLECULAR ENTITY, COBALT GROUP M...         1  \n",
       "6638   [DELTOID, TRIANGLE, DELTA SHAPED, TRIANGLE-SHA...         1  \n",
       "\n",
       "[13277 rows x 3 columns]"
      ]
     },
     "execution_count": 19,
     "metadata": {},
     "output_type": "execute_result"
    }
   ],
   "source": [
    "phen_df.sort_values(by=\"count(s)\", ascending=False)"
   ]
  }
 ],
 "metadata": {
  "kernelspec": {
   "display_name": "Python 3",
   "language": "python",
   "name": "python3"
  },
  "language_info": {
   "codemirror_mode": {
    "name": "ipython",
    "version": 3
   },
   "file_extension": ".py",
   "mimetype": "text/x-python",
   "name": "python",
   "nbconvert_exporter": "python",
   "pygments_lexer": "ipython3",
   "version": "3.6.9"
  }
 },
 "nbformat": 4,
 "nbformat_minor": 2
}
