{
 "cells": [
  {
   "cell_type": "code",
   "execution_count": 16,
   "metadata": {},
   "outputs": [],
   "source": [
    "from py2neo import Graph\n",
    "from py2neo import Node"
   ]
  },
  {
   "cell_type": "code",
   "execution_count": 26,
   "metadata": {},
   "outputs": [],
   "source": [
    "import pandas as pd"
   ]
  },
  {
   "cell_type": "code",
   "execution_count": 30,
   "metadata": {},
   "outputs": [],
   "source": [
    "#creates a py2neo database \n",
    "from py2neo import Database\n",
    "db = Database(\"bolt://disease.ncats.io:80\")"
   ]
  },
  {
   "cell_type": "code",
   "execution_count": 18,
   "metadata": {},
   "outputs": [],
   "source": [
    "#gets the graph object from databse\n",
    "graph = db.default_graph"
   ]
  },
  {
   "cell_type": "code",
   "execution_count": null,
   "metadata": {},
   "outputs": [],
   "source": [
    "#alternatively, we can also get the remote db with the Graph constructer, and set a longer time limit with param\n",
    "#graph2 = Graph(\"bolt://localhost:7687\") "
   ]
  },
  {
   "cell_type": "code",
   "execution_count": 20,
   "metadata": {
    "scrolled": true
   },
   "outputs": [
    {
     "name": "stdout",
     "output_type": "stream",
     "text": [
      "<Record d.id=1 s.N_Name=['HYPOTONIA, IN NEONATAL ONSET', 'LOW MUSCLE TONE, IN NEONATAL ONSET', 'HYPOTONIA, NEONATAL', 'CONGENITAL HYPOTONIA', 'NEONATAL HYPOTONIA']>\n",
      "<Record d.id=1 s.N_Name=['INCREASED SERUM PYRUVIC ACID', 'INCREASED SERUM PYRUVATE']>\n",
      "<Record d.id=1 s.N_Name='CHRONIC LACTIC ACIDOSIS'>\n",
      "<Record d.id=1 s.N_Name=['AUTOSOMAL RECESSIVE', 'AUTOSOMAL RECESSIVE FORM', 'AUTOSOMAL RECESSIVE PREDISPOSITION', 'AUTOSOMAL RECESSIVE INHERITANCE']>\n",
      "<Record d.id=1 s.N_Name=['HIGH FERRITIN LEVEL', 'INCREASED PLASMA FERRITIN', 'INCREASED FERRITIN', 'INCREASED SERUM FERRITIN LEVEL', 'HYPERFERRITINAEMIA', 'ELEVATED SERUM FERRITIN', 'HYPERFERRITINEMIA', 'INCREASED SERUM FERRITIN']>\n",
      "<Record d.id=1 s.N_Name=['HYPERAMINOACIDURIA', 'INCREASED LEVELS OF ANIMO ACIDS IN URINE', 'HIGH URINE AMINO ACID LEVELS', 'ABNORMAL URINARY AMINO-ACID FINDINGS', 'AMINOACIDURIA']>\n",
      "<Record d.id=1 s.N_Name='INCREASED SERUM IRON'>\n",
      "<Record d.id=1 s.N_Name=['PRENATAL GROWTH RETARDATION', 'PRENATAL GROWTH FAILURE', 'PRENATAL-ONSET GROWTH RETARDATION', 'PRENATAL GROWTH DEFICIENCY', 'IUGR', 'INTRAUTERINE GROWTH RETARDATION, IUGR', 'INTRAUTERINE GROWTH FAILURE', 'PRENATAL ONSET GROWTH RETARDATION', 'INTRAUTERINE GROWTH RESTRICTION', 'IN UTERO GROWTH RETARDATION', 'INTRAUTERINE RETARDATION', 'SMALL FOR GESTATIONAL AGE INFANT', 'INTRAUTERINE GROWTH RETARDATION']>\n",
      "<Record d.id=1 s.N_Name=['SLOWED OR BLOCKED FLOW OF BILE FROM LIVER', 'CHOLESTASIS']>\n",
      "<Record d.id=1 s.N_Name='RENAL AMINOACIDURIA'>\n",
      "<Record d.id=1 s.N_Name=['LACTICACIDOSIS', 'LACTICACIDEMIA', 'HYPERLACTICACIDEMIA', 'INCREASED LACTATE IN BODY', 'LACTIC ACIDEMIA', 'LACTIC ACIDOSIS']>\n",
      "<Record d.id=1 s.N_Name=['RENAL TUBULAR FANCONI SYNDROME', \"'DE TONI-FANCONI-DEBRE' SYNDROME\", 'RENAL FANCONI SYNDROME']>\n",
      "<Record d.id=1 s.N_Name=['HEPATIC CIRRHOSIS', 'SCAR TISSUE REPLACES HEALTHY TISSUE IN THE LIVER', 'LIVER CIRRHOSIS', 'CIRRHOSIS']>\n",
      "<Record d.id=1 s.N_Name=['HEARING DEFECT', 'CONGENITAL DEAFNESS', 'HEARING IMPAIRMENT', 'DEAFNESS', 'CONGENITAL HEARING LOSS', 'HEARING LOSS', 'HYPOACUSIS']>\n",
      "<Record d.id=1 s.N_Name=['LACTICACIDOSIS', 'LACTICACIDEMIA', 'HYPERLACTICACIDEMIA', 'INCREASED LACTATE IN BODY', 'LACTIC ACIDEMIA', 'LACTIC ACIDOSIS']>\n",
      "<Record d.id=1 s.N_Name=['INCREASED IRON CONCENTRATION IN LIVER', 'INCREASED LIVER IRON LEVEL', 'ELEVATED HEPATIC IRON CONCENTRATION']>\n",
      "<Record d.id=1 s.N_Name=['LIVER STEATOSIS', 'FATTY LIVER', 'FATTY INFILTRATION OF LIVER', 'STEATOSIS', 'HEPATIC STEATOSIS']>\n",
      "<Record d.id=1 s.N_Name=['DEATH IN EARLY ADULTHOOD']>\n",
      "<Record d.id=1 s.N_Name='DECREASED TRANSFERRIN SATURATION'>\n",
      "<Record d.id=1 s.N_Name='CHRONIC LACTIC ACIDOSIS'>\n",
      "<Record d.id=1 s.N_Name='INCREASED SERUM IRON'>\n",
      "<Record d.id=1 s.N_Name=['HYPERAMINOACIDURIA', 'INCREASED LEVELS OF ANIMO ACIDS IN URINE', 'HIGH URINE AMINO ACID LEVELS', 'ABNORMAL URINARY AMINO-ACID FINDINGS', 'AMINOACIDURIA']>\n",
      "<Record d.id=1 s.N_Name=['INCREASED SERUM PYRUVIC ACID', 'INCREASED SERUM PYRUVATE']>\n",
      "<Record d.id=1 s.N_Name=['SLOWED OR BLOCKED FLOW OF BILE FROM LIVER', 'CHOLESTASIS']>\n",
      "<Record d.id=1 s.N_Name=['HIGH FERRITIN LEVEL', 'INCREASED PLASMA FERRITIN', 'INCREASED FERRITIN', 'INCREASED SERUM FERRITIN LEVEL', 'HYPERFERRITINAEMIA', 'ELEVATED SERUM FERRITIN', 'HYPERFERRITINEMIA', 'INCREASED SERUM FERRITIN']>\n",
      "<Record d.id=1 s.N_Name=['PRENATAL GROWTH RETARDATION', 'PRENATAL GROWTH FAILURE', 'PRENATAL-ONSET GROWTH RETARDATION', 'PRENATAL GROWTH DEFICIENCY', 'IUGR', 'INTRAUTERINE GROWTH RETARDATION, IUGR', 'INTRAUTERINE GROWTH FAILURE', 'PRENATAL ONSET GROWTH RETARDATION', 'INTRAUTERINE GROWTH RESTRICTION', 'IN UTERO GROWTH RETARDATION', 'INTRAUTERINE RETARDATION', 'SMALL FOR GESTATIONAL AGE INFANT', 'INTRAUTERINE GROWTH RETARDATION']>\n",
      "<Record d.id=1 s.N_Name=['HYPOTONIA, IN NEONATAL ONSET', 'LOW MUSCLE TONE, IN NEONATAL ONSET', 'HYPOTONIA, NEONATAL', 'CONGENITAL HYPOTONIA', 'NEONATAL HYPOTONIA']>\n",
      "<Record d.id=1 s.N_Name=['AUTOSOMAL RECESSIVE', 'AUTOSOMAL RECESSIVE FORM', 'AUTOSOMAL RECESSIVE PREDISPOSITION', 'AUTOSOMAL RECESSIVE INHERITANCE']>\n",
      "<Record d.id=1 s.N_Name=['PRENATAL GROWTH RETARDATION', 'PRENATAL GROWTH FAILURE', 'PRENATAL-ONSET GROWTH RETARDATION', 'PRENATAL GROWTH DEFICIENCY', 'IUGR', 'INTRAUTERINE GROWTH RETARDATION, IUGR', 'INTRAUTERINE GROWTH FAILURE', 'PRENATAL ONSET GROWTH RETARDATION', 'INTRAUTERINE GROWTH RESTRICTION', 'IN UTERO GROWTH RETARDATION', 'INTRAUTERINE RETARDATION', 'SMALL FOR GESTATIONAL AGE INFANT', 'INTRAUTERINE GROWTH RETARDATION']>\n",
      "<Record d.id=1 s.N_Name='RENAL AMINOACIDURIA'>\n",
      "<Record d.id=1 s.N_Name=['LACTICACIDOSIS', 'LACTICACIDEMIA', 'HYPERLACTICACIDEMIA', 'INCREASED LACTATE IN BODY', 'LACTIC ACIDEMIA', 'LACTIC ACIDOSIS']>\n",
      "<Record d.id=1 s.N_Name=['HYPOTONIA, IN NEONATAL ONSET', 'LOW MUSCLE TONE, IN NEONATAL ONSET', 'HYPOTONIA, NEONATAL', 'CONGENITAL HYPOTONIA', 'NEONATAL HYPOTONIA']>\n",
      "<Record d.id=1 s.N_Name=['INCREASED SERUM PYRUVIC ACID', 'INCREASED SERUM PYRUVATE']>\n",
      "<Record d.id=1 s.N_Name='CHRONIC LACTIC ACIDOSIS'>\n",
      "<Record d.id=1 s.N_Name=['PRENATAL GROWTH RETARDATION', 'PRENATAL GROWTH FAILURE', 'PRENATAL-ONSET GROWTH RETARDATION', 'PRENATAL GROWTH DEFICIENCY', 'IUGR', 'INTRAUTERINE GROWTH RETARDATION, IUGR', 'INTRAUTERINE GROWTH FAILURE', 'PRENATAL ONSET GROWTH RETARDATION', 'INTRAUTERINE GROWTH RESTRICTION', 'IN UTERO GROWTH RETARDATION', 'INTRAUTERINE RETARDATION', 'SMALL FOR GESTATIONAL AGE INFANT', 'INTRAUTERINE GROWTH RETARDATION']>\n",
      "<Record d.id=1 s.N_Name=['HIGH FERRITIN LEVEL', 'INCREASED PLASMA FERRITIN', 'INCREASED FERRITIN', 'INCREASED SERUM FERRITIN LEVEL', 'HYPERFERRITINAEMIA', 'ELEVATED SERUM FERRITIN', 'HYPERFERRITINEMIA', 'INCREASED SERUM FERRITIN']>\n",
      "<Record d.id=1 s.N_Name=['HYPERAMINOACIDURIA', 'INCREASED LEVELS OF ANIMO ACIDS IN URINE', 'HIGH URINE AMINO ACID LEVELS', 'ABNORMAL URINARY AMINO-ACID FINDINGS', 'AMINOACIDURIA']>\n",
      "<Record d.id=1 s.N_Name='INCREASED SERUM IRON'>\n",
      "<Record d.id=1 s.N_Name=['SLOWED OR BLOCKED FLOW OF BILE FROM LIVER', 'CHOLESTASIS']>\n"
     ]
    }
   ],
   "source": [
    "query = \"\"\"match (n:S_GARD)--(d:DATA) where d.id = 1 with n, \n",
    "d match p =(n)-[:R_rel]-(s:S_HP)--(:DATA) return d.id, s.N_Name\n",
    "\"\"\"\n",
    "\n",
    "cursor = graph.run(query)\n",
    "\n",
    "#print the records from the Database.cursor object\n",
    "for record in cursor:\n",
    "    print(record)"
   ]
  },
  {
   "cell_type": "code",
   "execution_count": 25,
   "metadata": {
    "scrolled": true
   },
   "outputs": [
    {
     "data": {
      "text/plain": [
       "[{'n.N_Name': ['GRACILE SYNDROME',\n",
       "   'FLNMS',\n",
       "   'FINNISH LACTIC ACIDOSIS WITH HEPATIC HEMOSIDEROSIS',\n",
       "   'FELLMAN SYNDROME',\n",
       "   'GROWTH RETARDATION, AMINOACIDURIA, CHOLESTASIS, IRON OVERLOAD, LACTIC ACIDOSIS AND EARLY DEATH',\n",
       "   'FINNISH LETHAL NEONATAL METABOLIC SYNDROME',\n",
       "   'FELLMAN DISEASE',\n",
       "   'GROWTH DELAY-AMINOACIDURIA-CHOLESTASIS-IRON OVERLOAD-LACTIC ACIDOSIS-EARLY DEATH SYNDROME',\n",
       "   'GROWTH RESTRICTION-AMINOACIDURIA-CHOLESTASIS-IRON OVERLOAD-LACTIC ACIDOSIS-EARLY DEATH SYNDROME'],\n",
       "  'n.I_CODE': ['GARD:0000001',\n",
       "   'OMIM:603358',\n",
       "   'ORPHA:53693',\n",
       "   'ORPHANET:53693',\n",
       "   'UMLS:C1864002']},\n",
       " {'n.N_Name': ['ABLEPHARON MACROSTOMIA SYNDROME',\n",
       "   'AMS',\n",
       "   'CONGENITAL ABLEPHARON, ABSENT EYELASHES/EYEBROWS, MACROSTOMIA, AURICULAR, NASAL, GENITAL AND OTHER SYSTEMIC ANOMALIES'],\n",
       "  'n.I_CODE': ['GARD:0000003',\n",
       "   'OMIM:200110',\n",
       "   'ORPHA:920',\n",
       "   'ORPHANET:920',\n",
       "   'UMLS:C1860224']},\n",
       " {'n.N_Name': ['ACANTHOCHEILONEMIASIS',\n",
       "   'DIPETALONEMIASIS',\n",
       "   'DIPETALONEMA INFECTIONS',\n",
       "   'ACANTHOCHEILONEMA PERSTANS INFECTION',\n",
       "   'MANSONELLA PERSTANS'],\n",
       "  'n.I_CODE': 'GARD:0000004'},\n",
       " {'n.N_Name': ['ABETALIPOPROTEINEMIA',\n",
       "   'BASSEN KORNZWEIG SYNDROME',\n",
       "   'MICROSOMAL TRIGLYCERIDE TRANSFER PROTEIN DEFICIENCY DISEASE',\n",
       "   'MICROSOMAL TRIGLYCERIDE TRANSFER PROTEIN DEFICIENCY',\n",
       "   'ABL',\n",
       "   'ABETALIPOPROTEINEMIA NEUROPATHY',\n",
       "   'APOLIPOPROTEIN B DEFICIENCY',\n",
       "   'BETALIPOPROTEIN DEFICIENCY DISEASE',\n",
       "   'CONGENITAL BETALIPOPROTEIN DEFICIENCY SYNDROME',\n",
       "   'MTP DEFICIENCY',\n",
       "   'BASSEN-KORNZWEIG DISEASE',\n",
       "   'HOMOZYGOUS FAMILIAL HYPOBETALIPOPROTEINEMIA'],\n",
       "  'n.I_CODE': ['GARD:0000005', 'OMIM:200100', 'ORPHA:14', 'ORPHANET:14']},\n",
       " {'n.N_Name': ['ACROMESOMELIC DYSPLASIA', 'ACROMESOMELIC DWARFISM'],\n",
       "  'n.I_CODE': 'GARD:0000006'}]"
      ]
     },
     "execution_count": 25,
     "metadata": {},
     "output_type": "execute_result"
    }
   ],
   "source": [
    "#create a dictionary using .data() function on the query execution\n",
    "simple_query = \"match (n:S_GARD) return n.N_Name, n.I_CODE limit 5\"\n",
    "\n",
    "dictionary = graph.run(simple_query).data()\n",
    "dictionary"
   ]
  },
  {
   "cell_type": "code",
   "execution_count": 28,
   "metadata": {},
   "outputs": [
    {
     "data": {
      "text/html": [
       "<div>\n",
       "<style scoped>\n",
       "    .dataframe tbody tr th:only-of-type {\n",
       "        vertical-align: middle;\n",
       "    }\n",
       "\n",
       "    .dataframe tbody tr th {\n",
       "        vertical-align: top;\n",
       "    }\n",
       "\n",
       "    .dataframe thead th {\n",
       "        text-align: right;\n",
       "    }\n",
       "</style>\n",
       "<table border=\"1\" class=\"dataframe\">\n",
       "  <thead>\n",
       "    <tr style=\"text-align: right;\">\n",
       "      <th></th>\n",
       "      <th>n.N_Name</th>\n",
       "      <th>n.I_CODE</th>\n",
       "    </tr>\n",
       "  </thead>\n",
       "  <tbody>\n",
       "    <tr>\n",
       "      <th>0</th>\n",
       "      <td>[GRACILE SYNDROME, FLNMS, FINNISH LACTIC ACIDO...</td>\n",
       "      <td>[GARD:0000001, OMIM:603358, ORPHA:53693, ORPHA...</td>\n",
       "    </tr>\n",
       "    <tr>\n",
       "      <th>1</th>\n",
       "      <td>[ABLEPHARON MACROSTOMIA SYNDROME, AMS, CONGENI...</td>\n",
       "      <td>[GARD:0000003, OMIM:200110, ORPHA:920, ORPHANE...</td>\n",
       "    </tr>\n",
       "    <tr>\n",
       "      <th>2</th>\n",
       "      <td>[ACANTHOCHEILONEMIASIS, DIPETALONEMIASIS, DIPE...</td>\n",
       "      <td>GARD:0000004</td>\n",
       "    </tr>\n",
       "    <tr>\n",
       "      <th>3</th>\n",
       "      <td>[ABETALIPOPROTEINEMIA, BASSEN KORNZWEIG SYNDRO...</td>\n",
       "      <td>[GARD:0000005, OMIM:200100, ORPHA:14, ORPHANET...</td>\n",
       "    </tr>\n",
       "    <tr>\n",
       "      <th>4</th>\n",
       "      <td>[ACROMESOMELIC DYSPLASIA, ACROMESOMELIC DWARFISM]</td>\n",
       "      <td>GARD:0000006</td>\n",
       "    </tr>\n",
       "  </tbody>\n",
       "</table>\n",
       "</div>"
      ],
      "text/plain": [
       "                                            n.N_Name  \\\n",
       "0  [GRACILE SYNDROME, FLNMS, FINNISH LACTIC ACIDO...   \n",
       "1  [ABLEPHARON MACROSTOMIA SYNDROME, AMS, CONGENI...   \n",
       "2  [ACANTHOCHEILONEMIASIS, DIPETALONEMIASIS, DIPE...   \n",
       "3  [ABETALIPOPROTEINEMIA, BASSEN KORNZWEIG SYNDRO...   \n",
       "4  [ACROMESOMELIC DYSPLASIA, ACROMESOMELIC DWARFISM]   \n",
       "\n",
       "                                            n.I_CODE  \n",
       "0  [GARD:0000001, OMIM:603358, ORPHA:53693, ORPHA...  \n",
       "1  [GARD:0000003, OMIM:200110, ORPHA:920, ORPHANE...  \n",
       "2                                       GARD:0000004  \n",
       "3  [GARD:0000005, OMIM:200100, ORPHA:14, ORPHANET...  \n",
       "4                                       GARD:0000006  "
      ]
     },
     "execution_count": 28,
     "metadata": {},
     "output_type": "execute_result"
    }
   ],
   "source": [
    "#create a pandas Datafram from the dictionary\n",
    "simple_df = pd.DataFrame.from_dict(dictionary)\n",
    "simple_df.head(5)"
   ]
  },
  {
   "cell_type": "code",
   "execution_count": 31,
   "metadata": {},
   "outputs": [],
   "source": [
    "#get phenotype \n",
    "\n",
    "#phenotype count query\n",
    "phen_query = \"\"\"match (n:S_GARD)--(d:DATA)  with n, d \n",
    "            match p =(n)-[:R_rel{name:\"has_phenotype\"}]\n",
    "            -(s:S_HP)--(:DATA) return d.id, n.N_Name, count(s) limit 5\"\"\"\n",
    "phen_dict = graph.run(phen_query).data()"
   ]
  },
  {
   "cell_type": "code",
   "execution_count": 33,
   "metadata": {},
   "outputs": [
    {
     "data": {
      "text/html": [
       "<div>\n",
       "<style scoped>\n",
       "    .dataframe tbody tr th:only-of-type {\n",
       "        vertical-align: middle;\n",
       "    }\n",
       "\n",
       "    .dataframe tbody tr th {\n",
       "        vertical-align: top;\n",
       "    }\n",
       "\n",
       "    .dataframe thead th {\n",
       "        text-align: right;\n",
       "    }\n",
       "</style>\n",
       "<table border=\"1\" class=\"dataframe\">\n",
       "  <thead>\n",
       "    <tr style=\"text-align: right;\">\n",
       "      <th></th>\n",
       "      <th>d.id</th>\n",
       "      <th>n.N_Name</th>\n",
       "      <th>count(s)</th>\n",
       "    </tr>\n",
       "  </thead>\n",
       "  <tbody>\n",
       "    <tr>\n",
       "      <th>0</th>\n",
       "      <td>1</td>\n",
       "      <td>[GRACILE SYNDROME, FLNMS, FINNISH LACTIC ACIDO...</td>\n",
       "      <td>16</td>\n",
       "    </tr>\n",
       "    <tr>\n",
       "      <th>1</th>\n",
       "      <td>3</td>\n",
       "      <td>[ABLEPHARON MACROSTOMIA SYNDROME, AMS, CONGENI...</td>\n",
       "      <td>49</td>\n",
       "    </tr>\n",
       "    <tr>\n",
       "      <th>2</th>\n",
       "      <td>5</td>\n",
       "      <td>[ABETALIPOPROTEINEMIA, BASSEN KORNZWEIG SYNDRO...</td>\n",
       "      <td>14</td>\n",
       "    </tr>\n",
       "    <tr>\n",
       "      <th>3</th>\n",
       "      <td>7</td>\n",
       "      <td>[ACROMICRIC DYSPLASIA, ACROMICRIC SKELETAL DYS...</td>\n",
       "      <td>29</td>\n",
       "    </tr>\n",
       "    <tr>\n",
       "      <th>4</th>\n",
       "      <td>11</td>\n",
       "      <td>[ALTERNATING HEMIPLEGIA OF CHILDHOOD, ALTERNAT...</td>\n",
       "      <td>9</td>\n",
       "    </tr>\n",
       "  </tbody>\n",
       "</table>\n",
       "</div>"
      ],
      "text/plain": [
       "   d.id                                           n.N_Name  count(s)\n",
       "0     1  [GRACILE SYNDROME, FLNMS, FINNISH LACTIC ACIDO...        16\n",
       "1     3  [ABLEPHARON MACROSTOMIA SYNDROME, AMS, CONGENI...        49\n",
       "2     5  [ABETALIPOPROTEINEMIA, BASSEN KORNZWEIG SYNDRO...        14\n",
       "3     7  [ACROMICRIC DYSPLASIA, ACROMICRIC SKELETAL DYS...        29\n",
       "4    11  [ALTERNATING HEMIPLEGIA OF CHILDHOOD, ALTERNAT...         9"
      ]
     },
     "execution_count": 33,
     "metadata": {},
     "output_type": "execute_result"
    }
   ],
   "source": [
    "phen_df = pd.DataFrame.from_dict(phen_dict)\n",
    "phen_df.head()"
   ]
  }
 ],
 "metadata": {
  "kernelspec": {
   "display_name": "Python 3",
   "language": "python",
   "name": "python3"
  },
  "language_info": {
   "codemirror_mode": {
    "name": "ipython",
    "version": 3
   },
   "file_extension": ".py",
   "mimetype": "text/x-python",
   "name": "python",
   "nbconvert_exporter": "python",
   "pygments_lexer": "ipython3",
   "version": "3.6.9"
  }
 },
 "nbformat": 4,
 "nbformat_minor": 2
}
