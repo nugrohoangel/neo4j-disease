{
 "cells": [
  {
   "cell_type": "code",
   "execution_count": 2,
   "metadata": {},
   "outputs": [],
   "source": [
    "from py2neo import Graph\n",
    "from py2neo import Node"
   ]
  },
  {
   "cell_type": "code",
   "execution_count": 26,
   "metadata": {},
   "outputs": [],
   "source": [
    "import pandas as pd"
   ]
  },
  {
   "cell_type": "code",
   "execution_count": 32,
   "metadata": {},
   "outputs": [],
   "source": [
    "from matplotlib import pyplot as plt"
   ]
  },
  {
   "cell_type": "code",
   "execution_count": 1,
   "metadata": {},
   "outputs": [],
   "source": [
    "#creates a py2neo database \n",
    "from py2neo import Database\n",
    "db = Database(\"bolt://disease.ncats.io:80\")\n",
    "#the connection seems to only last for about an hour"
   ]
  },
  {
   "cell_type": "code",
   "execution_count": 2,
   "metadata": {},
   "outputs": [],
   "source": [
    "#gets the graph object from databse\n",
    "graph = db.default_graph"
   ]
  },
  {
   "cell_type": "code",
   "execution_count": 6,
   "metadata": {},
   "outputs": [],
   "source": [
    "#alternatively, we can also get the remote db with the Graph constructer\n",
    "#graph = Graph(\"bolt://localhost:7687\") "
   ]
  },
  {
   "cell_type": "code",
   "execution_count": 20,
   "metadata": {
    "scrolled": true
   },
   "outputs": [
    {
     "name": "stdout",
     "output_type": "stream",
     "text": [
      "<Record d.id=1 s.N_Name=['HYPOTONIA, IN NEONATAL ONSET', 'LOW MUSCLE TONE, IN NEONATAL ONSET', 'HYPOTONIA, NEONATAL', 'CONGENITAL HYPOTONIA', 'NEONATAL HYPOTONIA']>\n",
      "<Record d.id=1 s.N_Name=['INCREASED SERUM PYRUVIC ACID', 'INCREASED SERUM PYRUVATE']>\n",
      "<Record d.id=1 s.N_Name='CHRONIC LACTIC ACIDOSIS'>\n",
      "<Record d.id=1 s.N_Name=['AUTOSOMAL RECESSIVE', 'AUTOSOMAL RECESSIVE FORM', 'AUTOSOMAL RECESSIVE PREDISPOSITION', 'AUTOSOMAL RECESSIVE INHERITANCE']>\n",
      "<Record d.id=1 s.N_Name=['HIGH FERRITIN LEVEL', 'INCREASED PLASMA FERRITIN', 'INCREASED FERRITIN', 'INCREASED SERUM FERRITIN LEVEL', 'HYPERFERRITINAEMIA', 'ELEVATED SERUM FERRITIN', 'HYPERFERRITINEMIA', 'INCREASED SERUM FERRITIN']>\n",
      "<Record d.id=1 s.N_Name=['HYPERAMINOACIDURIA', 'INCREASED LEVELS OF ANIMO ACIDS IN URINE', 'HIGH URINE AMINO ACID LEVELS', 'ABNORMAL URINARY AMINO-ACID FINDINGS', 'AMINOACIDURIA']>\n",
      "<Record d.id=1 s.N_Name='INCREASED SERUM IRON'>\n",
      "<Record d.id=1 s.N_Name=['PRENATAL GROWTH RETARDATION', 'PRENATAL GROWTH FAILURE', 'PRENATAL-ONSET GROWTH RETARDATION', 'PRENATAL GROWTH DEFICIENCY', 'IUGR', 'INTRAUTERINE GROWTH RETARDATION, IUGR', 'INTRAUTERINE GROWTH FAILURE', 'PRENATAL ONSET GROWTH RETARDATION', 'INTRAUTERINE GROWTH RESTRICTION', 'IN UTERO GROWTH RETARDATION', 'INTRAUTERINE RETARDATION', 'SMALL FOR GESTATIONAL AGE INFANT', 'INTRAUTERINE GROWTH RETARDATION']>\n",
      "<Record d.id=1 s.N_Name=['SLOWED OR BLOCKED FLOW OF BILE FROM LIVER', 'CHOLESTASIS']>\n",
      "<Record d.id=1 s.N_Name='RENAL AMINOACIDURIA'>\n",
      "<Record d.id=1 s.N_Name=['LACTICACIDOSIS', 'LACTICACIDEMIA', 'HYPERLACTICACIDEMIA', 'INCREASED LACTATE IN BODY', 'LACTIC ACIDEMIA', 'LACTIC ACIDOSIS']>\n",
      "<Record d.id=1 s.N_Name=['RENAL TUBULAR FANCONI SYNDROME', \"'DE TONI-FANCONI-DEBRE' SYNDROME\", 'RENAL FANCONI SYNDROME']>\n",
      "<Record d.id=1 s.N_Name=['HEPATIC CIRRHOSIS', 'SCAR TISSUE REPLACES HEALTHY TISSUE IN THE LIVER', 'LIVER CIRRHOSIS', 'CIRRHOSIS']>\n",
      "<Record d.id=1 s.N_Name=['HEARING DEFECT', 'CONGENITAL DEAFNESS', 'HEARING IMPAIRMENT', 'DEAFNESS', 'CONGENITAL HEARING LOSS', 'HEARING LOSS', 'HYPOACUSIS']>\n",
      "<Record d.id=1 s.N_Name=['LACTICACIDOSIS', 'LACTICACIDEMIA', 'HYPERLACTICACIDEMIA', 'INCREASED LACTATE IN BODY', 'LACTIC ACIDEMIA', 'LACTIC ACIDOSIS']>\n",
      "<Record d.id=1 s.N_Name=['INCREASED IRON CONCENTRATION IN LIVER', 'INCREASED LIVER IRON LEVEL', 'ELEVATED HEPATIC IRON CONCENTRATION']>\n",
      "<Record d.id=1 s.N_Name=['LIVER STEATOSIS', 'FATTY LIVER', 'FATTY INFILTRATION OF LIVER', 'STEATOSIS', 'HEPATIC STEATOSIS']>\n",
      "<Record d.id=1 s.N_Name=['DEATH IN EARLY ADULTHOOD']>\n",
      "<Record d.id=1 s.N_Name='DECREASED TRANSFERRIN SATURATION'>\n",
      "<Record d.id=1 s.N_Name='CHRONIC LACTIC ACIDOSIS'>\n",
      "<Record d.id=1 s.N_Name='INCREASED SERUM IRON'>\n",
      "<Record d.id=1 s.N_Name=['HYPERAMINOACIDURIA', 'INCREASED LEVELS OF ANIMO ACIDS IN URINE', 'HIGH URINE AMINO ACID LEVELS', 'ABNORMAL URINARY AMINO-ACID FINDINGS', 'AMINOACIDURIA']>\n",
      "<Record d.id=1 s.N_Name=['INCREASED SERUM PYRUVIC ACID', 'INCREASED SERUM PYRUVATE']>\n",
      "<Record d.id=1 s.N_Name=['SLOWED OR BLOCKED FLOW OF BILE FROM LIVER', 'CHOLESTASIS']>\n",
      "<Record d.id=1 s.N_Name=['HIGH FERRITIN LEVEL', 'INCREASED PLASMA FERRITIN', 'INCREASED FERRITIN', 'INCREASED SERUM FERRITIN LEVEL', 'HYPERFERRITINAEMIA', 'ELEVATED SERUM FERRITIN', 'HYPERFERRITINEMIA', 'INCREASED SERUM FERRITIN']>\n",
      "<Record d.id=1 s.N_Name=['PRENATAL GROWTH RETARDATION', 'PRENATAL GROWTH FAILURE', 'PRENATAL-ONSET GROWTH RETARDATION', 'PRENATAL GROWTH DEFICIENCY', 'IUGR', 'INTRAUTERINE GROWTH RETARDATION, IUGR', 'INTRAUTERINE GROWTH FAILURE', 'PRENATAL ONSET GROWTH RETARDATION', 'INTRAUTERINE GROWTH RESTRICTION', 'IN UTERO GROWTH RETARDATION', 'INTRAUTERINE RETARDATION', 'SMALL FOR GESTATIONAL AGE INFANT', 'INTRAUTERINE GROWTH RETARDATION']>\n",
      "<Record d.id=1 s.N_Name=['HYPOTONIA, IN NEONATAL ONSET', 'LOW MUSCLE TONE, IN NEONATAL ONSET', 'HYPOTONIA, NEONATAL', 'CONGENITAL HYPOTONIA', 'NEONATAL HYPOTONIA']>\n",
      "<Record d.id=1 s.N_Name=['AUTOSOMAL RECESSIVE', 'AUTOSOMAL RECESSIVE FORM', 'AUTOSOMAL RECESSIVE PREDISPOSITION', 'AUTOSOMAL RECESSIVE INHERITANCE']>\n",
      "<Record d.id=1 s.N_Name=['PRENATAL GROWTH RETARDATION', 'PRENATAL GROWTH FAILURE', 'PRENATAL-ONSET GROWTH RETARDATION', 'PRENATAL GROWTH DEFICIENCY', 'IUGR', 'INTRAUTERINE GROWTH RETARDATION, IUGR', 'INTRAUTERINE GROWTH FAILURE', 'PRENATAL ONSET GROWTH RETARDATION', 'INTRAUTERINE GROWTH RESTRICTION', 'IN UTERO GROWTH RETARDATION', 'INTRAUTERINE RETARDATION', 'SMALL FOR GESTATIONAL AGE INFANT', 'INTRAUTERINE GROWTH RETARDATION']>\n",
      "<Record d.id=1 s.N_Name='RENAL AMINOACIDURIA'>\n",
      "<Record d.id=1 s.N_Name=['LACTICACIDOSIS', 'LACTICACIDEMIA', 'HYPERLACTICACIDEMIA', 'INCREASED LACTATE IN BODY', 'LACTIC ACIDEMIA', 'LACTIC ACIDOSIS']>\n",
      "<Record d.id=1 s.N_Name=['HYPOTONIA, IN NEONATAL ONSET', 'LOW MUSCLE TONE, IN NEONATAL ONSET', 'HYPOTONIA, NEONATAL', 'CONGENITAL HYPOTONIA', 'NEONATAL HYPOTONIA']>\n",
      "<Record d.id=1 s.N_Name=['INCREASED SERUM PYRUVIC ACID', 'INCREASED SERUM PYRUVATE']>\n",
      "<Record d.id=1 s.N_Name='CHRONIC LACTIC ACIDOSIS'>\n",
      "<Record d.id=1 s.N_Name=['PRENATAL GROWTH RETARDATION', 'PRENATAL GROWTH FAILURE', 'PRENATAL-ONSET GROWTH RETARDATION', 'PRENATAL GROWTH DEFICIENCY', 'IUGR', 'INTRAUTERINE GROWTH RETARDATION, IUGR', 'INTRAUTERINE GROWTH FAILURE', 'PRENATAL ONSET GROWTH RETARDATION', 'INTRAUTERINE GROWTH RESTRICTION', 'IN UTERO GROWTH RETARDATION', 'INTRAUTERINE RETARDATION', 'SMALL FOR GESTATIONAL AGE INFANT', 'INTRAUTERINE GROWTH RETARDATION']>\n",
      "<Record d.id=1 s.N_Name=['HIGH FERRITIN LEVEL', 'INCREASED PLASMA FERRITIN', 'INCREASED FERRITIN', 'INCREASED SERUM FERRITIN LEVEL', 'HYPERFERRITINAEMIA', 'ELEVATED SERUM FERRITIN', 'HYPERFERRITINEMIA', 'INCREASED SERUM FERRITIN']>\n",
      "<Record d.id=1 s.N_Name=['HYPERAMINOACIDURIA', 'INCREASED LEVELS OF ANIMO ACIDS IN URINE', 'HIGH URINE AMINO ACID LEVELS', 'ABNORMAL URINARY AMINO-ACID FINDINGS', 'AMINOACIDURIA']>\n",
      "<Record d.id=1 s.N_Name='INCREASED SERUM IRON'>\n",
      "<Record d.id=1 s.N_Name=['SLOWED OR BLOCKED FLOW OF BILE FROM LIVER', 'CHOLESTASIS']>\n"
     ]
    }
   ],
   "source": [
    "query = \"\"\"match (n:S_GARD)--(d:DATA) where d.id = 1 with n, \n",
    "d match p =(n)-[:R_rel]-(s:S_HP)--(:DATA) return d.id, s.N_Name\n",
    "\"\"\"\n",
    "\n",
    "cursor = graph.run(query)\n",
    "\n",
    "#print the records from the Database.cursor object\n",
    "for record in cursor:\n",
    "    print(record)"
   ]
  },
  {
   "cell_type": "code",
   "execution_count": 21,
   "metadata": {
    "scrolled": true
   },
   "outputs": [
    {
     "data": {
      "text/plain": [
       "[{'n.N_Name': ['GRACILE SYNDROME',\n",
       "   'FLNMS',\n",
       "   'FINNISH LACTIC ACIDOSIS WITH HEPATIC HEMOSIDEROSIS',\n",
       "   'FELLMAN SYNDROME',\n",
       "   'GROWTH RETARDATION, AMINOACIDURIA, CHOLESTASIS, IRON OVERLOAD, LACTIC ACIDOSIS AND EARLY DEATH',\n",
       "   'FINNISH LETHAL NEONATAL METABOLIC SYNDROME',\n",
       "   'FELLMAN DISEASE',\n",
       "   'GROWTH DELAY-AMINOACIDURIA-CHOLESTASIS-IRON OVERLOAD-LACTIC ACIDOSIS-EARLY DEATH SYNDROME',\n",
       "   'GROWTH RESTRICTION-AMINOACIDURIA-CHOLESTASIS-IRON OVERLOAD-LACTIC ACIDOSIS-EARLY DEATH SYNDROME'],\n",
       "  'n.I_CODE': ['GARD:0000001',\n",
       "   'OMIM:603358',\n",
       "   'ORPHA:53693',\n",
       "   'ORPHANET:53693',\n",
       "   'UMLS:C1864002']},\n",
       " {'n.N_Name': ['ABLEPHARON MACROSTOMIA SYNDROME',\n",
       "   'AMS',\n",
       "   'CONGENITAL ABLEPHARON, ABSENT EYELASHES/EYEBROWS, MACROSTOMIA, AURICULAR, NASAL, GENITAL AND OTHER SYSTEMIC ANOMALIES'],\n",
       "  'n.I_CODE': ['GARD:0000003',\n",
       "   'OMIM:200110',\n",
       "   'ORPHA:920',\n",
       "   'ORPHANET:920',\n",
       "   'UMLS:C1860224']},\n",
       " {'n.N_Name': ['ACANTHOCHEILONEMIASIS',\n",
       "   'DIPETALONEMIASIS',\n",
       "   'DIPETALONEMA INFECTIONS',\n",
       "   'ACANTHOCHEILONEMA PERSTANS INFECTION',\n",
       "   'MANSONELLA PERSTANS'],\n",
       "  'n.I_CODE': 'GARD:0000004'},\n",
       " {'n.N_Name': ['ABETALIPOPROTEINEMIA',\n",
       "   'BASSEN KORNZWEIG SYNDROME',\n",
       "   'MICROSOMAL TRIGLYCERIDE TRANSFER PROTEIN DEFICIENCY DISEASE',\n",
       "   'MICROSOMAL TRIGLYCERIDE TRANSFER PROTEIN DEFICIENCY',\n",
       "   'ABL',\n",
       "   'ABETALIPOPROTEINEMIA NEUROPATHY',\n",
       "   'APOLIPOPROTEIN B DEFICIENCY',\n",
       "   'BETALIPOPROTEIN DEFICIENCY DISEASE',\n",
       "   'CONGENITAL BETALIPOPROTEIN DEFICIENCY SYNDROME',\n",
       "   'MTP DEFICIENCY',\n",
       "   'BASSEN-KORNZWEIG DISEASE',\n",
       "   'HOMOZYGOUS FAMILIAL HYPOBETALIPOPROTEINEMIA'],\n",
       "  'n.I_CODE': ['GARD:0000005', 'OMIM:200100', 'ORPHA:14', 'ORPHANET:14']},\n",
       " {'n.N_Name': ['ACROMESOMELIC DYSPLASIA', 'ACROMESOMELIC DWARFISM'],\n",
       "  'n.I_CODE': 'GARD:0000006'}]"
      ]
     },
     "execution_count": 21,
     "metadata": {},
     "output_type": "execute_result"
    }
   ],
   "source": [
    "#create a dictionary using .data() function on the query execution\n",
    "simple_query = \"match (n:S_GARD) return n.N_Name, n.I_CODE limit 5\"\n",
    "\n",
    "dictionary = graph.run(simple_query).data()\n",
    "dictionary"
   ]
  },
  {
   "cell_type": "code",
   "execution_count": 28,
   "metadata": {},
   "outputs": [
    {
     "data": {
      "text/html": [
       "<div>\n",
       "<style scoped>\n",
       "    .dataframe tbody tr th:only-of-type {\n",
       "        vertical-align: middle;\n",
       "    }\n",
       "\n",
       "    .dataframe tbody tr th {\n",
       "        vertical-align: top;\n",
       "    }\n",
       "\n",
       "    .dataframe thead th {\n",
       "        text-align: right;\n",
       "    }\n",
       "</style>\n",
       "<table border=\"1\" class=\"dataframe\">\n",
       "  <thead>\n",
       "    <tr style=\"text-align: right;\">\n",
       "      <th></th>\n",
       "      <th>n.N_Name</th>\n",
       "      <th>n.I_CODE</th>\n",
       "    </tr>\n",
       "  </thead>\n",
       "  <tbody>\n",
       "    <tr>\n",
       "      <th>0</th>\n",
       "      <td>[GRACILE SYNDROME, FLNMS, FINNISH LACTIC ACIDO...</td>\n",
       "      <td>[GARD:0000001, OMIM:603358, ORPHA:53693, ORPHA...</td>\n",
       "    </tr>\n",
       "    <tr>\n",
       "      <th>1</th>\n",
       "      <td>[ABLEPHARON MACROSTOMIA SYNDROME, AMS, CONGENI...</td>\n",
       "      <td>[GARD:0000003, OMIM:200110, ORPHA:920, ORPHANE...</td>\n",
       "    </tr>\n",
       "    <tr>\n",
       "      <th>2</th>\n",
       "      <td>[ACANTHOCHEILONEMIASIS, DIPETALONEMIASIS, DIPE...</td>\n",
       "      <td>GARD:0000004</td>\n",
       "    </tr>\n",
       "    <tr>\n",
       "      <th>3</th>\n",
       "      <td>[ABETALIPOPROTEINEMIA, BASSEN KORNZWEIG SYNDRO...</td>\n",
       "      <td>[GARD:0000005, OMIM:200100, ORPHA:14, ORPHANET...</td>\n",
       "    </tr>\n",
       "    <tr>\n",
       "      <th>4</th>\n",
       "      <td>[ACROMESOMELIC DYSPLASIA, ACROMESOMELIC DWARFISM]</td>\n",
       "      <td>GARD:0000006</td>\n",
       "    </tr>\n",
       "  </tbody>\n",
       "</table>\n",
       "</div>"
      ],
      "text/plain": [
       "                                            n.N_Name  \\\n",
       "0  [GRACILE SYNDROME, FLNMS, FINNISH LACTIC ACIDO...   \n",
       "1  [ABLEPHARON MACROSTOMIA SYNDROME, AMS, CONGENI...   \n",
       "2  [ACANTHOCHEILONEMIASIS, DIPETALONEMIASIS, DIPE...   \n",
       "3  [ABETALIPOPROTEINEMIA, BASSEN KORNZWEIG SYNDRO...   \n",
       "4  [ACROMESOMELIC DYSPLASIA, ACROMESOMELIC DWARFISM]   \n",
       "\n",
       "                                            n.I_CODE  \n",
       "0  [GARD:0000001, OMIM:603358, ORPHA:53693, ORPHA...  \n",
       "1  [GARD:0000003, OMIM:200110, ORPHA:920, ORPHANE...  \n",
       "2                                       GARD:0000004  \n",
       "3  [GARD:0000005, OMIM:200100, ORPHA:14, ORPHANET...  \n",
       "4                                       GARD:0000006  "
      ]
     },
     "execution_count": 28,
     "metadata": {},
     "output_type": "execute_result"
    }
   ],
   "source": [
    "#create a pandas Datafram from the dictionary\n",
    "simple_df = pd.DataFrame.from_dict(dictionary)\n",
    "simple_df.head(5)"
   ]
  },
  {
   "cell_type": "code",
   "execution_count": 10,
   "metadata": {},
   "outputs": [],
   "source": [
    "#get phenotype \n",
    "\n",
    "#phenotype count query\n",
    "phen_query = \"\"\"match (n:S_GARD)--(d:DATA)  with n, d \n",
    "            match p =(n)-[:R_rel{name:\"has_phenotype\"}]\n",
    "            -(s:S_HP)--(:DATA) return d.id, n.N_Name, count(s)\"\"\"\n",
    "phen_dict = graph.run(phen_query).data()"
   ]
  },
  {
   "cell_type": "code",
   "execution_count": 12,
   "metadata": {},
   "outputs": [
    {
     "data": {
      "text/html": [
       "<div>\n",
       "<style scoped>\n",
       "    .dataframe tbody tr th:only-of-type {\n",
       "        vertical-align: middle;\n",
       "    }\n",
       "\n",
       "    .dataframe tbody tr th {\n",
       "        vertical-align: top;\n",
       "    }\n",
       "\n",
       "    .dataframe thead th {\n",
       "        text-align: right;\n",
       "    }\n",
       "</style>\n",
       "<table border=\"1\" class=\"dataframe\">\n",
       "  <thead>\n",
       "    <tr style=\"text-align: right;\">\n",
       "      <th></th>\n",
       "      <th>d.id</th>\n",
       "      <th>n.N_Name</th>\n",
       "      <th>count(s)</th>\n",
       "    </tr>\n",
       "  </thead>\n",
       "  <tbody>\n",
       "    <tr>\n",
       "      <th>0</th>\n",
       "      <td>1</td>\n",
       "      <td>[GRACILE SYNDROME, FLNMS, FINNISH LACTIC ACIDO...</td>\n",
       "      <td>16</td>\n",
       "    </tr>\n",
       "    <tr>\n",
       "      <th>1</th>\n",
       "      <td>3</td>\n",
       "      <td>[ABLEPHARON MACROSTOMIA SYNDROME, AMS, CONGENI...</td>\n",
       "      <td>49</td>\n",
       "    </tr>\n",
       "    <tr>\n",
       "      <th>2</th>\n",
       "      <td>5</td>\n",
       "      <td>[ABETALIPOPROTEINEMIA, BASSEN KORNZWEIG SYNDRO...</td>\n",
       "      <td>14</td>\n",
       "    </tr>\n",
       "    <tr>\n",
       "      <th>3</th>\n",
       "      <td>7</td>\n",
       "      <td>[ACROMICRIC DYSPLASIA, ACROMICRIC SKELETAL DYS...</td>\n",
       "      <td>29</td>\n",
       "    </tr>\n",
       "    <tr>\n",
       "      <th>4</th>\n",
       "      <td>11</td>\n",
       "      <td>[ALTERNATING HEMIPLEGIA OF CHILDHOOD, ALTERNAT...</td>\n",
       "      <td>9</td>\n",
       "    </tr>\n",
       "    <tr>\n",
       "      <th>5</th>\n",
       "      <td>13</td>\n",
       "      <td>[GILLESPIE SYNDROME, ANIRIDIA, CEREBELLAR ATAX...</td>\n",
       "      <td>19</td>\n",
       "    </tr>\n",
       "    <tr>\n",
       "      <th>6</th>\n",
       "      <td>19</td>\n",
       "      <td>[DIHYDROPYRIMIDINE DEHYDROGENASE DEFICIENCY, D...</td>\n",
       "      <td>23</td>\n",
       "    </tr>\n",
       "    <tr>\n",
       "      <th>7</th>\n",
       "      <td>22</td>\n",
       "      <td>[BJORNSTAD SYNDROME, BJS, PILI TORTI AND NERVE...</td>\n",
       "      <td>12</td>\n",
       "    </tr>\n",
       "    <tr>\n",
       "      <th>8</th>\n",
       "      <td>23</td>\n",
       "      <td>[BLEPHAROPHIMOSIS-EPICANTHUS INVERSUS-PTOSIS S...</td>\n",
       "      <td>21</td>\n",
       "    </tr>\n",
       "    <tr>\n",
       "      <th>9</th>\n",
       "      <td>28</td>\n",
       "      <td>[CATEL MANZKE SYNDROME, HYPERPHALANGY-CLINODAC...</td>\n",
       "      <td>24</td>\n",
       "    </tr>\n",
       "  </tbody>\n",
       "</table>\n",
       "</div>"
      ],
      "text/plain": [
       "   d.id                                           n.N_Name  count(s)\n",
       "0     1  [GRACILE SYNDROME, FLNMS, FINNISH LACTIC ACIDO...        16\n",
       "1     3  [ABLEPHARON MACROSTOMIA SYNDROME, AMS, CONGENI...        49\n",
       "2     5  [ABETALIPOPROTEINEMIA, BASSEN KORNZWEIG SYNDRO...        14\n",
       "3     7  [ACROMICRIC DYSPLASIA, ACROMICRIC SKELETAL DYS...        29\n",
       "4    11  [ALTERNATING HEMIPLEGIA OF CHILDHOOD, ALTERNAT...         9\n",
       "5    13  [GILLESPIE SYNDROME, ANIRIDIA, CEREBELLAR ATAX...        19\n",
       "6    19  [DIHYDROPYRIMIDINE DEHYDROGENASE DEFICIENCY, D...        23\n",
       "7    22  [BJORNSTAD SYNDROME, BJS, PILI TORTI AND NERVE...        12\n",
       "8    23  [BLEPHAROPHIMOSIS-EPICANTHUS INVERSUS-PTOSIS S...        21\n",
       "9    28  [CATEL MANZKE SYNDROME, HYPERPHALANGY-CLINODAC...        24"
      ]
     },
     "execution_count": 12,
     "metadata": {},
     "output_type": "execute_result"
    }
   ],
   "source": [
    "phen_df = pd.DataFrame.from_dict(phen_dict)\n",
    "phen_df.head()"
   ]
  },
  {
   "cell_type": "code",
   "execution_count": 16,
   "metadata": {},
   "outputs": [
    {
     "data": {
      "text/plain": [
       "0       16\n",
       "1       49\n",
       "2       14\n",
       "3       29\n",
       "4        9\n",
       "        ..\n",
       "2249    28\n",
       "2250     8\n",
       "2251    60\n",
       "2252    54\n",
       "2253    25\n",
       "Name: count(s), Length: 2254, dtype: int64"
      ]
     },
     "execution_count": 16,
     "metadata": {},
     "output_type": "execute_result"
    }
   ],
   "source": [
    "phen_df[\"count(s)\"]"
   ]
  },
  {
   "cell_type": "code",
   "execution_count": 28,
   "metadata": {},
   "outputs": [
    {
     "data": {
      "image/png": "[encoded data removed]",
      "text/plain": [
       "<Figure size 432x288 with 1 Axes>"
      ]
     },
     "metadata": {
      "needs_background": "light"
     },
     "output_type": "display_data"
    }
   ],
   "source": [
    "plt.hist(phen_df[\"count(s)\"], bins=50)\n",
    "plt.xlabel(\"Number of Connected Phenotypes\")\n",
    "plt.ylabel(\"Number of GARD Diseases\")\n",
    "plt.show()"
   ]
  },
  {
   "cell_type": "code",
   "execution_count": 31,
   "metadata": {},
   "outputs": [],
   "source": [
    "#important to save- or else we'll need to run the query again after shutting down the notebook \n",
    "phen_df.to_csv(\"GARD_Phenotype_Distribution.csv\")"
   ]
  },
  {
   "cell_type": "code",
   "execution_count": 24,
   "metadata": {},
   "outputs": [
    {
     "name": "stdout",
     "output_type": "stream",
     "text": [
      "CPU times: user 190 ms, sys: 49.3 ms, total: 239 ms\n",
      "Wall time: 5min 50s\n"
     ]
    }
   ],
   "source": [
    "%%time\n",
    "#want to check how long the query will take in the notebook\n",
    "#getting the count of diseases connected to phenotype nodes \n",
    "flip_phen_query = \"\"\"match (n:S_HP)--(d:DATA) with n, d \n",
    "                    match p =(n)-[:R_rel{name:\"has_phenotype\"}]-(s:S_GARD) \n",
    "                    return d.id, n.N_Name, count(s)\"\"\"\n",
    "flip_phen_dict = graph.run(flip_phen_query).data()"
   ]
  },
  {
   "cell_type": "code",
   "execution_count": 28,
   "metadata": {},
   "outputs": [
    {
     "data": {
      "text/html": [
       "<div>\n",
       "<style scoped>\n",
       "    .dataframe tbody tr th:only-of-type {\n",
       "        vertical-align: middle;\n",
       "    }\n",
       "\n",
       "    .dataframe tbody tr th {\n",
       "        vertical-align: top;\n",
       "    }\n",
       "\n",
       "    .dataframe thead th {\n",
       "        text-align: right;\n",
       "    }\n",
       "</style>\n",
       "<table border=\"1\" class=\"dataframe\">\n",
       "  <thead>\n",
       "    <tr style=\"text-align: right;\">\n",
       "      <th></th>\n",
       "      <th>d.id</th>\n",
       "      <th>n.N_Name</th>\n",
       "      <th>count(s)</th>\n",
       "    </tr>\n",
       "  </thead>\n",
       "  <tbody>\n",
       "    <tr>\n",
       "      <th>0</th>\n",
       "      <td>HP:0001994</td>\n",
       "      <td>[RENAL TUBULAR FANCONI SYNDROME, 'DE TONI-FANC...</td>\n",
       "      <td>5</td>\n",
       "    </tr>\n",
       "    <tr>\n",
       "      <th>1</th>\n",
       "      <td>HP:0001394</td>\n",
       "      <td>[HEPATIC CIRRHOSIS, SCAR TISSUE REPLACES HEALT...</td>\n",
       "      <td>48</td>\n",
       "    </tr>\n",
       "    <tr>\n",
       "      <th>2</th>\n",
       "      <td>HP:0000365</td>\n",
       "      <td>[HEARING DEFECT, CONGENITAL DEAFNESS, HEARING ...</td>\n",
       "      <td>207</td>\n",
       "    </tr>\n",
       "    <tr>\n",
       "      <th>3</th>\n",
       "      <td>HP:0003128</td>\n",
       "      <td>[LACTICACIDOSIS, LACTICACIDEMIA, HYPERLACTICAC...</td>\n",
       "      <td>43</td>\n",
       "    </tr>\n",
       "    <tr>\n",
       "      <th>4</th>\n",
       "      <td>HP:0012465</td>\n",
       "      <td>[INCREASED IRON CONCENTRATION IN LIVER, INCREA...</td>\n",
       "      <td>2</td>\n",
       "    </tr>\n",
       "    <tr>\n",
       "      <th>5</th>\n",
       "      <td>HP:0001397</td>\n",
       "      <td>[LIVER STEATOSIS, FATTY LIVER, FATTY INFILTRAT...</td>\n",
       "      <td>45</td>\n",
       "    </tr>\n",
       "    <tr>\n",
       "      <th>6</th>\n",
       "      <td>HP:0100613</td>\n",
       "      <td>[DEATH IN EARLY ADULTHOOD]</td>\n",
       "      <td>10</td>\n",
       "    </tr>\n",
       "    <tr>\n",
       "      <th>7</th>\n",
       "      <td>HP:0012464</td>\n",
       "      <td>DECREASED TRANSFERRIN SATURATION</td>\n",
       "      <td>1</td>\n",
       "    </tr>\n",
       "    <tr>\n",
       "      <th>8</th>\n",
       "      <td>HP:0004925</td>\n",
       "      <td>CHRONIC LACTIC ACIDOSIS</td>\n",
       "      <td>3</td>\n",
       "    </tr>\n",
       "    <tr>\n",
       "      <th>9</th>\n",
       "      <td>HP:0003452</td>\n",
       "      <td>INCREASED SERUM IRON</td>\n",
       "      <td>5</td>\n",
       "    </tr>\n",
       "  </tbody>\n",
       "</table>\n",
       "</div>"
      ],
      "text/plain": [
       "         d.id                                           n.N_Name  count(s)\n",
       "0  HP:0001994  [RENAL TUBULAR FANCONI SYNDROME, 'DE TONI-FANC...         5\n",
       "1  HP:0001394  [HEPATIC CIRRHOSIS, SCAR TISSUE REPLACES HEALT...        48\n",
       "2  HP:0000365  [HEARING DEFECT, CONGENITAL DEAFNESS, HEARING ...       207\n",
       "3  HP:0003128  [LACTICACIDOSIS, LACTICACIDEMIA, HYPERLACTICAC...        43\n",
       "4  HP:0012465  [INCREASED IRON CONCENTRATION IN LIVER, INCREA...         2\n",
       "5  HP:0001397  [LIVER STEATOSIS, FATTY LIVER, FATTY INFILTRAT...        45\n",
       "6  HP:0100613                         [DEATH IN EARLY ADULTHOOD]        10\n",
       "7  HP:0012464                   DECREASED TRANSFERRIN SATURATION         1\n",
       "8  HP:0004925                            CHRONIC LACTIC ACIDOSIS         3\n",
       "9  HP:0003452                               INCREASED SERUM IRON         5"
      ]
     },
     "execution_count": 28,
     "metadata": {},
     "output_type": "execute_result"
    }
   ],
   "source": [
    "flip_phen_df = pd.DataFrame.from_dict(flip_phen_dict)\n",
    "flip_phen_df.head(10)"
   ]
  },
  {
   "cell_type": "code",
   "execution_count": 34,
   "metadata": {},
   "outputs": [
    {
     "data": {
      "text/html": [
       "<div>\n",
       "<style scoped>\n",
       "    .dataframe tbody tr th:only-of-type {\n",
       "        vertical-align: middle;\n",
       "    }\n",
       "\n",
       "    .dataframe tbody tr th {\n",
       "        vertical-align: top;\n",
       "    }\n",
       "\n",
       "    .dataframe thead th {\n",
       "        text-align: right;\n",
       "    }\n",
       "</style>\n",
       "<table border=\"1\" class=\"dataframe\">\n",
       "  <thead>\n",
       "    <tr style=\"text-align: right;\">\n",
       "      <th></th>\n",
       "      <th>d.id</th>\n",
       "      <th>n.N_Name</th>\n",
       "      <th>count(s)</th>\n",
       "    </tr>\n",
       "  </thead>\n",
       "  <tbody>\n",
       "    <tr>\n",
       "      <th>18</th>\n",
       "      <td>HP:0000007</td>\n",
       "      <td>[AUTOSOMAL RECESSIVE, AUTOSOMAL RECESSIVE FORM...</td>\n",
       "      <td>1048</td>\n",
       "    </tr>\n",
       "    <tr>\n",
       "      <th>17</th>\n",
       "      <td>HP:0000006</td>\n",
       "      <td>[AUTOSOMAL DOMINANT, AUTOSOMAL DOMINANT TYPE, ...</td>\n",
       "      <td>844</td>\n",
       "    </tr>\n",
       "    <tr>\n",
       "      <th>127</th>\n",
       "      <td>HP:0001250</td>\n",
       "      <td>[SEIZURE, SEIZURES, EPILEPSY]</td>\n",
       "      <td>531</td>\n",
       "    </tr>\n",
       "    <tr>\n",
       "      <th>103</th>\n",
       "      <td>HP:0001249</td>\n",
       "      <td>[INTELLECTUAL DISABILITY, NONPROGRESSIVE INTEL...</td>\n",
       "      <td>531</td>\n",
       "    </tr>\n",
       "    <tr>\n",
       "      <th>53</th>\n",
       "      <td>HP:0001263</td>\n",
       "      <td>[RETARDED DEVELOPMENT, LACK OF PSYCHOMOTOR DEV...</td>\n",
       "      <td>452</td>\n",
       "    </tr>\n",
       "    <tr>\n",
       "      <th>...</th>\n",
       "      <td>...</td>\n",
       "      <td>...</td>\n",
       "      <td>...</td>\n",
       "    </tr>\n",
       "    <tr>\n",
       "      <th>4639</th>\n",
       "      <td>HP:0007546</td>\n",
       "      <td>LINEAR HYPERPIGMENTATION</td>\n",
       "      <td>1</td>\n",
       "    </tr>\n",
       "    <tr>\n",
       "      <th>4638</th>\n",
       "      <td>HP:0006638</td>\n",
       "      <td>[MISSING MIDDLE PART OF COLLARBONE, MIDCLAVICU...</td>\n",
       "      <td>1</td>\n",
       "    </tr>\n",
       "    <tr>\n",
       "      <th>4637</th>\n",
       "      <td>HP:0011847</td>\n",
       "      <td>GIANT CELL TUMOR OF BONE</td>\n",
       "      <td>1</td>\n",
       "    </tr>\n",
       "    <tr>\n",
       "      <th>4636</th>\n",
       "      <td>HP:0011599</td>\n",
       "      <td>MESOCARDIA</td>\n",
       "      <td>1</td>\n",
       "    </tr>\n",
       "    <tr>\n",
       "      <th>6250</th>\n",
       "      <td>HP:0001220</td>\n",
       "      <td>[INTERPHALANGEAL JOINT FLEXION CONTRACTURES, I...</td>\n",
       "      <td>1</td>\n",
       "    </tr>\n",
       "  </tbody>\n",
       "</table>\n",
       "<p>6251 rows × 3 columns</p>\n",
       "</div>"
      ],
      "text/plain": [
       "            d.id                                           n.N_Name  count(s)\n",
       "18    HP:0000007  [AUTOSOMAL RECESSIVE, AUTOSOMAL RECESSIVE FORM...      1048\n",
       "17    HP:0000006  [AUTOSOMAL DOMINANT, AUTOSOMAL DOMINANT TYPE, ...       844\n",
       "127   HP:0001250                      [SEIZURE, SEIZURES, EPILEPSY]       531\n",
       "103   HP:0001249  [INTELLECTUAL DISABILITY, NONPROGRESSIVE INTEL...       531\n",
       "53    HP:0001263  [RETARDED DEVELOPMENT, LACK OF PSYCHOMOTOR DEV...       452\n",
       "...          ...                                                ...       ...\n",
       "4639  HP:0007546                           LINEAR HYPERPIGMENTATION         1\n",
       "4638  HP:0006638  [MISSING MIDDLE PART OF COLLARBONE, MIDCLAVICU...         1\n",
       "4637  HP:0011847                           GIANT CELL TUMOR OF BONE         1\n",
       "4636  HP:0011599                                         MESOCARDIA         1\n",
       "6250  HP:0001220  [INTERPHALANGEAL JOINT FLEXION CONTRACTURES, I...         1\n",
       "\n",
       "[6251 rows x 3 columns]"
      ]
     },
     "execution_count": 34,
     "metadata": {},
     "output_type": "execute_result"
    }
   ],
   "source": [
    "flip_phen_df.sort_values(by=\"count(s)\", ascending=False)"
   ]
  },
  {
   "cell_type": "code",
   "execution_count": 30,
   "metadata": {},
   "outputs": [],
   "source": [
    "flip_phen_df.to_csv(\"Phenotype_GARD_Distribution.csv\")"
   ]
  },
  {
   "cell_type": "code",
   "execution_count": 39,
   "metadata": {},
   "outputs": [
    {
     "data": {
      "image/png": "[encoded data removed]",
      "text/plain": [
       "<Figure size 432x288 with 1 Axes>"
      ]
     },
     "metadata": {
      "needs_background": "light"
     },
     "output_type": "display_data"
    }
   ],
   "source": [
    "plt.hist(flip_phen_df[\"count(s)\"], bins=100)\n",
    "plt.xlabel(\"Number of Connected Phenotypes\")\n",
    "plt.ylabel(\"Number of Phenotypes\")\n",
    "plt.show()"
   ]
  },
  {
   "cell_type": "code",
   "execution_count": 3,
   "metadata": {},
   "outputs": [],
   "source": [
    "#creating a list of ontologies\n",
    "list_query = \"match (n:DATASOURCE) return n.name\"\n",
    "list_dict = graph.run(list_query).data()"
   ]
  },
  {
   "cell_type": "code",
   "execution_count": 40,
   "metadata": {},
   "outputs": [
    {
     "name": "stdout",
     "output_type": "stream",
     "text": [
      "['GARD', 'doid.owl.gz', 'GHR', 'NORD', 'Thesaurus.owl.gz', 'MESH.ttl.gz', 'hp.owl.gz', 'MEDLINEPLUS.ttl.gz', 'OMIM.ttl.gz', 'ICD10CM.ttl.gz', 'ordo_orphanet.owl.gz', 'bto.owl.gz', 'VANDF.ttl.gz', 'chebi.xrdf.gz', 'CLINVAR', 'clo.owl.gz', 'ddiem.owl.gz', 'uberon.owl.gz', 'cl.owl.gz', 'go.owl.gz', 'ogg.owl.gz', 'geno.owl.gz', 'mp.owl.gz', 'pw.owl.gz', 'oae.owl.gz', 'rxno.owl.gz', 'pato.owl.gz', 'fma.owl.gz', 'efo.owl.gz', 'mondo.owl.gz', 'rancho-disease-drug_2018-12-18_13-30.txt', 'FDAOrphanGARD_20190216.txt', 'MEDGEN', 'HPO_annotation_100918.txt'] 34\n"
     ]
    }
   ],
   "source": [
    "#realizing that the .data() py2neo function actually does NOT return a dictionary\n",
    "#instead returns a list of dictionaries, so this for loop pulls out the ontologies from that\n",
    "ontologies = [onto['n.name'] for onto in list_dict]\n",
    "print(ontologies, len(ontologies))"
   ]
  },
  {
   "cell_type": "code",
   "execution_count": 42,
   "metadata": {},
   "outputs": [],
   "source": [
    "#list of the ontologies as their node label\n",
    "otlgs = [\"S_BTO\",\"S_CHEBI\",\"S_CL\",\"S_CLINVAR\",\"S_CLO\",\"S_DDIEM\",\"S_DOID\",\"S_EFO\",\"S_FDAORPHANGARD_20190216\",\"S_FMA\"\n",
    "         ,\"S_GARD\",\"S_GENO\",\"S_GHR\",\"S_GO\",\"S_HPO_ANNOTATION_100918\",\"S_ICD10CM\",\"S_MEDGEN\",\"S_MEDLINEPLUS\"\n",
    "         ,\"S_MESH\",\"S_MONDO\",\"S_MP\",\"S_NORD\",\"S_OAE\",\"S_OGG\",\"S_OMIM\",\"S_ORDO_ORPHANET\",\"S_PATO\",\"S_PW\"\n",
    "         ,\"S_RANCHO-DISEASE-DRUG_2018-12-18_13-30\",\"S_RXNO\",\"S_THESAURUS\",\"S_UBERON\",\"S_VANDF\"]"
   ]
  },
  {
   "cell_type": "code",
   "execution_count": 49,
   "metadata": {},
   "outputs": [],
   "source": [
    "#create a function to execute this distribution query for the other databases\n",
    "def phenotype_dist(onto_name, make_csv=True, output=True):\n",
    "    query = f\"\"\"match (n:{onto_name})--(d:DATA)  with n, d \n",
    "            match p =(n)-[:R_rel{{name:\"has_phenotype\"}}]\n",
    "            -(s:S_HP) return d.id, n.N_Name, count(s)\"\"\"\n",
    "    dictionary = graph.run(query).data()\n",
    "    df = pd.DataFrame.from_dict(dictionary)\n",
    "    if make_csv:\n",
    "        df.to_csv(f\"{onto_name}_Phenotype_Distribution.csv\")\n",
    "    if output:\n",
    "        print(f\"{onto_name} distribution done.\")\n",
    "    return df"
   ]
  },
  {
   "cell_type": "code",
   "execution_count": null,
   "metadata": {},
   "outputs": [],
   "source": []
  }
 ],
 "metadata": {
  "kernelspec": {
   "display_name": "Python 3",
   "language": "python",
   "name": "python3"
  },
  "language_info": {
   "codemirror_mode": {
    "name": "ipython",
    "version": 3
   },
   "file_extension": ".py",
   "mimetype": "text/x-python",
   "name": "python",
   "nbconvert_exporter": "python",
   "pygments_lexer": "ipython3",
   "version": "3.6.9"
  }
 },
 "nbformat": 4,
 "nbformat_minor": 2
}
