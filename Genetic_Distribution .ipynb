{
 "cells": [
  {
   "cell_type": "code",
   "execution_count": 1,
   "metadata": {},
   "outputs": [],
   "source": [
    "from py2neo import Graph\n",
    "from py2neo import Node"
   ]
  },
  {
   "cell_type": "code",
   "execution_count": 2,
   "metadata": {},
   "outputs": [],
   "source": [
    "import pandas as pd\n",
    "from matplotlib import pyplot as plt"
   ]
  },
  {
   "cell_type": "code",
   "execution_count": 3,
   "metadata": {},
   "outputs": [],
   "source": [
    "from py2neo import Database\n",
    "db = Database(\"bolt://disease.ncats.io:80\")\n",
    "graph = db.default_graph"
   ]
  },
  {
   "cell_type": "markdown",
   "metadata": {},
   "source": [
    "## Distribution of gene variants on GARD diseases"
   ]
  },
  {
   "cell_type": "code",
   "execution_count": 4,
   "metadata": {},
   "outputs": [
    {
     "data": {
      "text/html": [
       "<div>\n",
       "<style scoped>\n",
       "    .dataframe tbody tr th:only-of-type {\n",
       "        vertical-align: middle;\n",
       "    }\n",
       "\n",
       "    .dataframe tbody tr th {\n",
       "        vertical-align: top;\n",
       "    }\n",
       "\n",
       "    .dataframe thead th {\n",
       "        text-align: right;\n",
       "    }\n",
       "</style>\n",
       "<table border=\"1\" class=\"dataframe\">\n",
       "  <thead>\n",
       "    <tr style=\"text-align: right;\">\n",
       "      <th></th>\n",
       "      <th>d.id</th>\n",
       "      <th>n.N_Name</th>\n",
       "      <th>count(m)</th>\n",
       "    </tr>\n",
       "  </thead>\n",
       "  <tbody>\n",
       "    <tr>\n",
       "      <th>0</th>\n",
       "      <td>10900</td>\n",
       "      <td>[HEREDITARY DIFFUSE GASTRIC CANCER, HDGC, GAST...</td>\n",
       "      <td>20</td>\n",
       "    </tr>\n",
       "    <tr>\n",
       "      <th>1</th>\n",
       "      <td>634</td>\n",
       "      <td>[LEBER CONGENITAL AMAUROSIS, LCA, CONGENITAL A...</td>\n",
       "      <td>92</td>\n",
       "    </tr>\n",
       "    <tr>\n",
       "      <th>2</th>\n",
       "      <td>10490</td>\n",
       "      <td>[LEBER CONGENITAL AMAUROSIS 6, LCA6, LEBER CON...</td>\n",
       "      <td>6</td>\n",
       "    </tr>\n",
       "    <tr>\n",
       "      <th>3</th>\n",
       "      <td>5508</td>\n",
       "      <td>[VLCAD DEFICIENCY, VERY LONG-CHAIN ACYL-COA DE...</td>\n",
       "      <td>5</td>\n",
       "    </tr>\n",
       "    <tr>\n",
       "      <th>4</th>\n",
       "      <td>4017</td>\n",
       "      <td>[OCCIPITAL HORN SYNDROME, OHS, CUTIS LAXA X-LI...</td>\n",
       "      <td>10</td>\n",
       "    </tr>\n",
       "  </tbody>\n",
       "</table>\n",
       "</div>"
      ],
      "text/plain": [
       "    d.id                                           n.N_Name  count(m)\n",
       "0  10900  [HEREDITARY DIFFUSE GASTRIC CANCER, HDGC, GAST...        20\n",
       "1    634  [LEBER CONGENITAL AMAUROSIS, LCA, CONGENITAL A...        92\n",
       "2  10490  [LEBER CONGENITAL AMAUROSIS 6, LCA6, LEBER CON...         6\n",
       "3   5508  [VLCAD DEFICIENCY, VERY LONG-CHAIN ACYL-COA DE...         5\n",
       "4   4017  [OCCIPITAL HORN SYNDROME, OHS, CUTIS LAXA X-LI...        10"
      ]
     },
     "execution_count": 4,
     "metadata": {},
     "output_type": "execute_result"
    }
   ],
   "source": [
    "q = \"\"\"match p=(d:DATA)--(n:S_GARD)--(m:S_CLINVAR:Pathogenic) return d.id, n.N_Name, count(m)\"\"\"\n",
    "gene_dict = graph.run(q).data()\n",
    "gene_df = pd.DataFrame.from_dict(gene_dict)\n",
    "gene_df.head()"
   ]
  },
  {
   "cell_type": "code",
   "execution_count": 7,
   "metadata": {},
   "outputs": [
    {
     "data": {
      "text/plain": [
       "(2326, 3)"
      ]
     },
     "execution_count": 7,
     "metadata": {},
     "output_type": "execute_result"
    }
   ],
   "source": [
    "gene_df.to_csv(\"GARD_Gene_Variant_Distribution\")\n",
    "gene_df.shape"
   ]
  },
  {
   "cell_type": "code",
   "execution_count": 13,
   "metadata": {},
   "outputs": [
    {
     "data": {
      "image/png": "[encoded data removed]",
      "text/plain": [
       "<Figure size 432x288 with 1 Axes>"
      ]
     },
     "metadata": {
      "needs_background": "light"
     },
     "output_type": "display_data"
    }
   ],
   "source": [
    "plt.hist(gene_df[\"count(m)\"], bins=75, alpha = 0.6, ec = \"black\")\n",
    "plt.xlabel(\"Number of Connected Gene Variants\")\n",
    "plt.ylabel(\"Number of GARD Diseases\")\n",
    "plt.title(\"Distribution of variant connections to GARD diseases\")\n",
    "plt.show()"
   ]
  },
  {
   "cell_type": "code",
   "execution_count": 15,
   "metadata": {},
   "outputs": [
    {
     "data": {
      "text/html": [
       "<div>\n",
       "<style scoped>\n",
       "    .dataframe tbody tr th:only-of-type {\n",
       "        vertical-align: middle;\n",
       "    }\n",
       "\n",
       "    .dataframe tbody tr th {\n",
       "        vertical-align: top;\n",
       "    }\n",
       "\n",
       "    .dataframe thead th {\n",
       "        text-align: right;\n",
       "    }\n",
       "</style>\n",
       "<table border=\"1\" class=\"dataframe\">\n",
       "  <thead>\n",
       "    <tr style=\"text-align: right;\">\n",
       "      <th></th>\n",
       "      <th>d.id</th>\n",
       "      <th>n.N_Name</th>\n",
       "      <th>count(m)</th>\n",
       "    </tr>\n",
       "  </thead>\n",
       "  <tbody>\n",
       "    <tr>\n",
       "      <th>439</th>\n",
       "      <td>6591</td>\n",
       "      <td>[HEMOPHILIA A, HEMOPHILIA, CLASSIC, HEM A, CLA...</td>\n",
       "      <td>786</td>\n",
       "    </tr>\n",
       "    <tr>\n",
       "      <th>63</th>\n",
       "      <td>5694</td>\n",
       "      <td>[RETINITIS PIGMENTOSA, RP]</td>\n",
       "      <td>326</td>\n",
       "    </tr>\n",
       "    <tr>\n",
       "      <th>55</th>\n",
       "      <td>8732</td>\n",
       "      <td>[HEMOPHILIA B, CHRISTMAS DISEASE, FACTOR IX DE...</td>\n",
       "      <td>210</td>\n",
       "    </tr>\n",
       "    <tr>\n",
       "      <th>1756</th>\n",
       "      <td>6233</td>\n",
       "      <td>[CYSTIC FIBROSIS, MUCOVISCIDOSIS, CF]</td>\n",
       "      <td>204</td>\n",
       "    </tr>\n",
       "    <tr>\n",
       "      <th>1608</th>\n",
       "      <td>6400</td>\n",
       "      <td>[FABRY DISEASE, ANGIOKERATOMA, DIFFUSE, ANDERS...</td>\n",
       "      <td>162</td>\n",
       "    </tr>\n",
       "    <tr>\n",
       "      <th>...</th>\n",
       "      <td>...</td>\n",
       "      <td>...</td>\n",
       "      <td>...</td>\n",
       "    </tr>\n",
       "    <tr>\n",
       "      <th>2031</th>\n",
       "      <td>8722</td>\n",
       "      <td>[PAROXYSOMAL NONKINESIGENIC DYSKINESIA, DYT-MR-1]</td>\n",
       "      <td>1</td>\n",
       "    </tr>\n",
       "    <tr>\n",
       "      <th>2043</th>\n",
       "      <td>7026</td>\n",
       "      <td>[MALIGNANT MESOTHELIOMA, MESOTHELIOMA, MALIGNANT]</td>\n",
       "      <td>1</td>\n",
       "    </tr>\n",
       "    <tr>\n",
       "      <th>2067</th>\n",
       "      <td>1248</td>\n",
       "      <td>[CHARCOT-MARIE-TOOTH DISEASE TYPE 2A, CMT 2A, ...</td>\n",
       "      <td>1</td>\n",
       "    </tr>\n",
       "    <tr>\n",
       "      <th>2088</th>\n",
       "      <td>10598</td>\n",
       "      <td>[CAROTID BODY TUMOR, CAROTID BODY PARAGANGLIOM...</td>\n",
       "      <td>1</td>\n",
       "    </tr>\n",
       "    <tr>\n",
       "      <th>2325</th>\n",
       "      <td>5643</td>\n",
       "      <td>[DENTATORUBRAL-PALLIDOLUYSIAN ATROPHY, DRPLA, ...</td>\n",
       "      <td>1</td>\n",
       "    </tr>\n",
       "  </tbody>\n",
       "</table>\n",
       "<p>2326 rows × 3 columns</p>\n",
       "</div>"
      ],
      "text/plain": [
       "       d.id                                           n.N_Name  count(m)\n",
       "439    6591  [HEMOPHILIA A, HEMOPHILIA, CLASSIC, HEM A, CLA...       786\n",
       "63     5694                         [RETINITIS PIGMENTOSA, RP]       326\n",
       "55     8732  [HEMOPHILIA B, CHRISTMAS DISEASE, FACTOR IX DE...       210\n",
       "1756   6233              [CYSTIC FIBROSIS, MUCOVISCIDOSIS, CF]       204\n",
       "1608   6400  [FABRY DISEASE, ANGIOKERATOMA, DIFFUSE, ANDERS...       162\n",
       "...     ...                                                ...       ...\n",
       "2031   8722  [PAROXYSOMAL NONKINESIGENIC DYSKINESIA, DYT-MR-1]         1\n",
       "2043   7026  [MALIGNANT MESOTHELIOMA, MESOTHELIOMA, MALIGNANT]         1\n",
       "2067   1248  [CHARCOT-MARIE-TOOTH DISEASE TYPE 2A, CMT 2A, ...         1\n",
       "2088  10598  [CAROTID BODY TUMOR, CAROTID BODY PARAGANGLIOM...         1\n",
       "2325   5643  [DENTATORUBRAL-PALLIDOLUYSIAN ATROPHY, DRPLA, ...         1\n",
       "\n",
       "[2326 rows x 3 columns]"
      ]
     },
     "execution_count": 15,
     "metadata": {},
     "output_type": "execute_result"
    }
   ],
   "source": [
    "gene_df.sort_values(by=\"count(m)\", ascending=False)"
   ]
  },
  {
   "cell_type": "code",
   "execution_count": 18,
   "metadata": {},
   "outputs": [
    {
     "data": {
      "image/png": "[encoded data removed]",
      "text/plain": [
       "<Figure size 432x288 with 1 Axes>"
      ]
     },
     "metadata": {
      "needs_background": "light"
     },
     "output_type": "display_data"
    }
   ],
   "source": [
    "#showing the histogram without the 786 value so we can see more of the shape of the data\n",
    "outlier_gone = gene_df.sort_values(by=\"count(m)\", ascending=False)[1:][\"count(m)\"]\n",
    "plt.hist(outlier_gone, bins=75, alpha = 0.6, ec = \"black\", facecolor = \"red\")\n",
    "plt.xlabel(\"Number of Connected Gene Variants\")\n",
    "plt.ylabel(\"Number of GARD Diseases\")\n",
    "plt.title(\"Distribution of variant connections to GARD diseases\")\n",
    "plt.show()"
   ]
  },
  {
   "cell_type": "code",
   "execution_count": null,
   "metadata": {},
   "outputs": [],
   "source": [
    "plt.hist(gene_df[\"count(m)\"], bins=50, log=True)\n",
    "plt.xlabel(\"Number of Connected Diseases\")\n",
    "plt.ylabel(\"Number of Phenotypes\")\n",
    "plt.title(\"Distribution of phenotype connections to GARD diseases\")\n",
    "plt.show()"
   ]
  }
 ],
 "metadata": {
  "kernelspec": {
   "display_name": "Python 3",
   "language": "python",
   "name": "python3"
  },
  "language_info": {
   "codemirror_mode": {
    "name": "ipython",
    "version": 3
   },
   "file_extension": ".py",
   "mimetype": "text/x-python",
   "name": "python",
   "nbconvert_exporter": "python",
   "pygments_lexer": "ipython3",
   "version": "3.6.9"
  }
 },
 "nbformat": 4,
 "nbformat_minor": 2
}
